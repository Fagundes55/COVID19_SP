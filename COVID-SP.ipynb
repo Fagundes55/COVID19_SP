{
 "cells": [
  {
   "cell_type": "code",
   "execution_count": 1,
   "metadata": {},
   "outputs": [],
   "source": [
    "import pandas as pd\n",
    "import numpy as np"
   ]
  },
  {
   "cell_type": "code",
   "execution_count": 2,
   "metadata": {},
   "outputs": [
    {
     "data": {
      "text/html": [
       "<div>\n",
       "<style scoped>\n",
       "    .dataframe tbody tr th:only-of-type {\n",
       "        vertical-align: middle;\n",
       "    }\n",
       "\n",
       "    .dataframe tbody tr th {\n",
       "        vertical-align: top;\n",
       "    }\n",
       "\n",
       "    .dataframe thead th {\n",
       "        text-align: right;\n",
       "    }\n",
       "</style>\n",
       "<table border=\"1\" class=\"dataframe\">\n",
       "  <thead>\n",
       "    <tr style=\"text-align: right;\">\n",
       "      <th></th>\n",
       "      <th>nome_munic</th>\n",
       "      <th>codigo_ibge</th>\n",
       "      <th>dia</th>\n",
       "      <th>mes</th>\n",
       "      <th>datahora</th>\n",
       "      <th>casos</th>\n",
       "      <th>casos_novos</th>\n",
       "      <th>casos_pc</th>\n",
       "      <th>casos_mm7d</th>\n",
       "      <th>obitos</th>\n",
       "      <th>...</th>\n",
       "      <th>nome_drs</th>\n",
       "      <th>cod_drs</th>\n",
       "      <th>pop</th>\n",
       "      <th>pop_60</th>\n",
       "      <th>area</th>\n",
       "      <th>map_leg</th>\n",
       "      <th>map_leg_s</th>\n",
       "      <th>latitude</th>\n",
       "      <th>longitude</th>\n",
       "      <th>semana_epidem</th>\n",
       "    </tr>\n",
       "  </thead>\n",
       "  <tbody>\n",
       "    <tr>\n",
       "      <th>0</th>\n",
       "      <td>Adamantina</td>\n",
       "      <td>3500105</td>\n",
       "      <td>25</td>\n",
       "      <td>2</td>\n",
       "      <td>25/2/2020</td>\n",
       "      <td>0</td>\n",
       "      <td>0</td>\n",
       "      <td>0</td>\n",
       "      <td>0</td>\n",
       "      <td>0</td>\n",
       "      <td>...</td>\n",
       "      <td>Marília</td>\n",
       "      <td>5</td>\n",
       "      <td>33894</td>\n",
       "      <td>7398</td>\n",
       "      <td>41199</td>\n",
       "      <td>0.0</td>\n",
       "      <td>8.0</td>\n",
       "      <td>-21,682</td>\n",
       "      <td>-51,0737</td>\n",
       "      <td>9</td>\n",
       "    </tr>\n",
       "    <tr>\n",
       "      <th>1</th>\n",
       "      <td>Adolfo</td>\n",
       "      <td>3500204</td>\n",
       "      <td>25</td>\n",
       "      <td>2</td>\n",
       "      <td>25/2/2020</td>\n",
       "      <td>0</td>\n",
       "      <td>0</td>\n",
       "      <td>0</td>\n",
       "      <td>0</td>\n",
       "      <td>0</td>\n",
       "      <td>...</td>\n",
       "      <td>São José do Rio Preto</td>\n",
       "      <td>15</td>\n",
       "      <td>3447</td>\n",
       "      <td>761</td>\n",
       "      <td>21106</td>\n",
       "      <td>0.0</td>\n",
       "      <td>8.0</td>\n",
       "      <td>-21,2325</td>\n",
       "      <td>-49,6451</td>\n",
       "      <td>9</td>\n",
       "    </tr>\n",
       "    <tr>\n",
       "      <th>2</th>\n",
       "      <td>Aguaí</td>\n",
       "      <td>3500303</td>\n",
       "      <td>25</td>\n",
       "      <td>2</td>\n",
       "      <td>25/2/2020</td>\n",
       "      <td>0</td>\n",
       "      <td>0</td>\n",
       "      <td>0</td>\n",
       "      <td>0</td>\n",
       "      <td>0</td>\n",
       "      <td>...</td>\n",
       "      <td>São João da Boa Vista</td>\n",
       "      <td>14</td>\n",
       "      <td>35608</td>\n",
       "      <td>5245</td>\n",
       "      <td>47455</td>\n",
       "      <td>0.0</td>\n",
       "      <td>8.0</td>\n",
       "      <td>-22,0572</td>\n",
       "      <td>-46,9735</td>\n",
       "      <td>9</td>\n",
       "    </tr>\n",
       "    <tr>\n",
       "      <th>3</th>\n",
       "      <td>Águas da Prata</td>\n",
       "      <td>3500402</td>\n",
       "      <td>25</td>\n",
       "      <td>2</td>\n",
       "      <td>25/2/2020</td>\n",
       "      <td>0</td>\n",
       "      <td>0</td>\n",
       "      <td>0</td>\n",
       "      <td>0</td>\n",
       "      <td>0</td>\n",
       "      <td>...</td>\n",
       "      <td>São João da Boa Vista</td>\n",
       "      <td>14</td>\n",
       "      <td>7797</td>\n",
       "      <td>1729</td>\n",
       "      <td>14267</td>\n",
       "      <td>0.0</td>\n",
       "      <td>8.0</td>\n",
       "      <td>-21,9319</td>\n",
       "      <td>-46,7176</td>\n",
       "      <td>9</td>\n",
       "    </tr>\n",
       "    <tr>\n",
       "      <th>4</th>\n",
       "      <td>Águas de Lindóia</td>\n",
       "      <td>3500501</td>\n",
       "      <td>25</td>\n",
       "      <td>2</td>\n",
       "      <td>25/2/2020</td>\n",
       "      <td>0</td>\n",
       "      <td>0</td>\n",
       "      <td>0</td>\n",
       "      <td>0</td>\n",
       "      <td>0</td>\n",
       "      <td>...</td>\n",
       "      <td>Campinas</td>\n",
       "      <td>3</td>\n",
       "      <td>18374</td>\n",
       "      <td>3275</td>\n",
       "      <td>6013</td>\n",
       "      <td>0.0</td>\n",
       "      <td>8.0</td>\n",
       "      <td>-22,4733</td>\n",
       "      <td>-46,6314</td>\n",
       "      <td>9</td>\n",
       "    </tr>\n",
       "  </tbody>\n",
       "</table>\n",
       "<p>5 rows × 26 columns</p>\n",
       "</div>"
      ],
      "text/plain": [
       "         nome_munic  codigo_ibge  dia  mes   datahora  casos  casos_novos  \\\n",
       "0        Adamantina      3500105   25    2  25/2/2020      0            0   \n",
       "1            Adolfo      3500204   25    2  25/2/2020      0            0   \n",
       "2             Aguaí      3500303   25    2  25/2/2020      0            0   \n",
       "3    Águas da Prata      3500402   25    2  25/2/2020      0            0   \n",
       "4  Águas de Lindóia      3500501   25    2  25/2/2020      0            0   \n",
       "\n",
       "   casos_pc  casos_mm7d  obitos  ...               nome_drs  cod_drs    pop  \\\n",
       "0         0           0       0  ...                Marília        5  33894   \n",
       "1         0           0       0  ...  São José do Rio Preto       15   3447   \n",
       "2         0           0       0  ...  São João da Boa Vista       14  35608   \n",
       "3         0           0       0  ...  São João da Boa Vista       14   7797   \n",
       "4         0           0       0  ...               Campinas        3  18374   \n",
       "\n",
       "   pop_60   area  map_leg map_leg_s  latitude  longitude  semana_epidem  \n",
       "0    7398  41199      0.0       8.0   -21,682   -51,0737              9  \n",
       "1     761  21106      0.0       8.0  -21,2325   -49,6451              9  \n",
       "2    5245  47455      0.0       8.0  -22,0572   -46,9735              9  \n",
       "3    1729  14267      0.0       8.0  -21,9319   -46,7176              9  \n",
       "4    3275   6013      0.0       8.0  -22,4733   -46,6314              9  \n",
       "\n",
       "[5 rows x 26 columns]"
      ]
     },
     "execution_count": 2,
     "metadata": {},
     "output_type": "execute_result"
    }
   ],
   "source": [
    "covid_sp = pd.read_csv('dadoscovid_sp.csv', sep=';')\n",
    "covid_sp.head()"
   ]
  },
  {
   "cell_type": "code",
   "execution_count": 3,
   "metadata": {},
   "outputs": [
    {
     "data": {
      "text/plain": [
       "(374034, 26)"
      ]
     },
     "execution_count": 3,
     "metadata": {},
     "output_type": "execute_result"
    }
   ],
   "source": [
    "covid_sp.shape"
   ]
  },
  {
   "cell_type": "code",
   "execution_count": 4,
   "metadata": {},
   "outputs": [
    {
     "name": "stdout",
     "output_type": "stream",
     "text": [
      "<class 'pandas.core.frame.DataFrame'>\n",
      "RangeIndex: 374034 entries, 0 to 374033\n",
      "Data columns (total 26 columns):\n",
      " #   Column         Non-Null Count   Dtype  \n",
      "---  ------         --------------   -----  \n",
      " 0   nome_munic     374034 non-null  object \n",
      " 1   codigo_ibge    374034 non-null  int64  \n",
      " 2   dia            374034 non-null  int64  \n",
      " 3   mes            374034 non-null  int64  \n",
      " 4   datahora       374034 non-null  object \n",
      " 5   casos          374034 non-null  int64  \n",
      " 6   casos_novos    374034 non-null  int64  \n",
      " 7   casos_pc       374034 non-null  int64  \n",
      " 8   casos_mm7d     374034 non-null  int64  \n",
      " 9   obitos         374034 non-null  int64  \n",
      " 10  obitos_novos   374034 non-null  int64  \n",
      " 11  obitos_pc      374034 non-null  int64  \n",
      " 12  obitos_mm7d    374034 non-null  int64  \n",
      " 13  letalidade     374034 non-null  int64  \n",
      " 14  nome_ra        373455 non-null  object \n",
      " 15  cod_ra         374034 non-null  int64  \n",
      " 16  nome_drs       373455 non-null  object \n",
      " 17  cod_drs        374034 non-null  int64  \n",
      " 18  pop            374034 non-null  int64  \n",
      " 19  pop_60         374034 non-null  int64  \n",
      " 20  area           374034 non-null  int64  \n",
      " 21  map_leg        45195 non-null   float64\n",
      " 22  map_leg_s      373455 non-null  float64\n",
      " 23  latitude       374034 non-null  object \n",
      " 24  longitude      374034 non-null  object \n",
      " 25  semana_epidem  374034 non-null  int64  \n",
      "dtypes: float64(2), int64(18), object(6)\n",
      "memory usage: 74.2+ MB\n"
     ]
    }
   ],
   "source": [
    "covid_sp.info()"
   ]
  },
  {
   "cell_type": "code",
   "execution_count": 5,
   "metadata": {},
   "outputs": [
    {
     "data": {
      "text/plain": [
       "nome_munic        object\n",
       "codigo_ibge        int64\n",
       "dia                int64\n",
       "mes                int64\n",
       "datahora          object\n",
       "casos              int64\n",
       "casos_novos        int64\n",
       "casos_pc           int64\n",
       "casos_mm7d         int64\n",
       "obitos             int64\n",
       "obitos_novos       int64\n",
       "obitos_pc          int64\n",
       "obitos_mm7d        int64\n",
       "letalidade         int64\n",
       "nome_ra           object\n",
       "cod_ra             int64\n",
       "nome_drs          object\n",
       "cod_drs            int64\n",
       "pop                int64\n",
       "pop_60             int64\n",
       "area               int64\n",
       "map_leg          float64\n",
       "map_leg_s        float64\n",
       "latitude          object\n",
       "longitude         object\n",
       "semana_epidem      int64\n",
       "dtype: object"
      ]
     },
     "execution_count": 5,
     "metadata": {},
     "output_type": "execute_result"
    }
   ],
   "source": [
    "covid_sp.dtypes"
   ]
  },
  {
   "cell_type": "code",
   "execution_count": 6,
   "metadata": {},
   "outputs": [],
   "source": [
    "from dateutil.parser import parse"
   ]
  },
  {
   "cell_type": "code",
   "execution_count": 9,
   "metadata": {},
   "outputs": [],
   "source": [
    "covid_sp['datahora']= covid_sp['datahora'].apply(parse)"
   ]
  },
  {
   "cell_type": "code",
   "execution_count": 10,
   "metadata": {},
   "outputs": [
    {
     "name": "stdout",
     "output_type": "stream",
     "text": [
      "<class 'pandas.core.frame.DataFrame'>\n",
      "RangeIndex: 374034 entries, 0 to 374033\n",
      "Data columns (total 26 columns):\n",
      " #   Column         Non-Null Count   Dtype         \n",
      "---  ------         --------------   -----         \n",
      " 0   nome_munic     374034 non-null  object        \n",
      " 1   codigo_ibge    374034 non-null  int64         \n",
      " 2   dia            374034 non-null  int64         \n",
      " 3   mes            374034 non-null  int64         \n",
      " 4   datahora       374034 non-null  datetime64[ns]\n",
      " 5   casos          374034 non-null  int64         \n",
      " 6   casos_novos    374034 non-null  int64         \n",
      " 7   casos_pc       374034 non-null  int64         \n",
      " 8   casos_mm7d     374034 non-null  int64         \n",
      " 9   obitos         374034 non-null  int64         \n",
      " 10  obitos_novos   374034 non-null  int64         \n",
      " 11  obitos_pc      374034 non-null  int64         \n",
      " 12  obitos_mm7d    374034 non-null  int64         \n",
      " 13  letalidade     374034 non-null  int64         \n",
      " 14  nome_ra        373455 non-null  object        \n",
      " 15  cod_ra         374034 non-null  int64         \n",
      " 16  nome_drs       373455 non-null  object        \n",
      " 17  cod_drs        374034 non-null  int64         \n",
      " 18  pop            374034 non-null  int64         \n",
      " 19  pop_60         374034 non-null  int64         \n",
      " 20  area           374034 non-null  int64         \n",
      " 21  map_leg        45195 non-null   float64       \n",
      " 22  map_leg_s      373455 non-null  float64       \n",
      " 23  latitude       374034 non-null  object        \n",
      " 24  longitude      374034 non-null  object        \n",
      " 25  semana_epidem  374034 non-null  int64         \n",
      "dtypes: datetime64[ns](1), float64(2), int64(18), object(5)\n",
      "memory usage: 74.2+ MB\n"
     ]
    }
   ],
   "source": [
    "covid_sp.info()"
   ]
  },
  {
   "cell_type": "code",
   "execution_count": 11,
   "metadata": {},
   "outputs": [
    {
     "data": {
      "text/html": [
       "<div>\n",
       "<style scoped>\n",
       "    .dataframe tbody tr th:only-of-type {\n",
       "        vertical-align: middle;\n",
       "    }\n",
       "\n",
       "    .dataframe tbody tr th {\n",
       "        vertical-align: top;\n",
       "    }\n",
       "\n",
       "    .dataframe thead th {\n",
       "        text-align: right;\n",
       "    }\n",
       "</style>\n",
       "<table border=\"1\" class=\"dataframe\">\n",
       "  <thead>\n",
       "    <tr style=\"text-align: right;\">\n",
       "      <th></th>\n",
       "      <th>nome_munic</th>\n",
       "      <th>codigo_ibge</th>\n",
       "      <th>dia</th>\n",
       "      <th>mes</th>\n",
       "      <th>datahora</th>\n",
       "      <th>casos</th>\n",
       "      <th>casos_novos</th>\n",
       "      <th>casos_pc</th>\n",
       "      <th>casos_mm7d</th>\n",
       "      <th>obitos</th>\n",
       "      <th>...</th>\n",
       "      <th>cod_drs</th>\n",
       "      <th>pop</th>\n",
       "      <th>pop_60</th>\n",
       "      <th>area</th>\n",
       "      <th>map_leg</th>\n",
       "      <th>map_leg_s</th>\n",
       "      <th>latitude</th>\n",
       "      <th>longitude</th>\n",
       "      <th>semana_epidem</th>\n",
       "      <th>indice</th>\n",
       "    </tr>\n",
       "  </thead>\n",
       "  <tbody>\n",
       "    <tr>\n",
       "      <th>0</th>\n",
       "      <td>Adamantina</td>\n",
       "      <td>3500105</td>\n",
       "      <td>25</td>\n",
       "      <td>2</td>\n",
       "      <td>2020-02-25</td>\n",
       "      <td>0</td>\n",
       "      <td>0</td>\n",
       "      <td>0</td>\n",
       "      <td>0</td>\n",
       "      <td>0</td>\n",
       "      <td>...</td>\n",
       "      <td>5</td>\n",
       "      <td>33894</td>\n",
       "      <td>7398</td>\n",
       "      <td>41199</td>\n",
       "      <td>0.0</td>\n",
       "      <td>8.0</td>\n",
       "      <td>-21,682</td>\n",
       "      <td>-51,0737</td>\n",
       "      <td>9</td>\n",
       "      <td>1</td>\n",
       "    </tr>\n",
       "    <tr>\n",
       "      <th>1</th>\n",
       "      <td>Adolfo</td>\n",
       "      <td>3500204</td>\n",
       "      <td>25</td>\n",
       "      <td>2</td>\n",
       "      <td>2020-02-25</td>\n",
       "      <td>0</td>\n",
       "      <td>0</td>\n",
       "      <td>0</td>\n",
       "      <td>0</td>\n",
       "      <td>0</td>\n",
       "      <td>...</td>\n",
       "      <td>15</td>\n",
       "      <td>3447</td>\n",
       "      <td>761</td>\n",
       "      <td>21106</td>\n",
       "      <td>0.0</td>\n",
       "      <td>8.0</td>\n",
       "      <td>-21,2325</td>\n",
       "      <td>-49,6451</td>\n",
       "      <td>9</td>\n",
       "      <td>2</td>\n",
       "    </tr>\n",
       "    <tr>\n",
       "      <th>2</th>\n",
       "      <td>Aguaí</td>\n",
       "      <td>3500303</td>\n",
       "      <td>25</td>\n",
       "      <td>2</td>\n",
       "      <td>2020-02-25</td>\n",
       "      <td>0</td>\n",
       "      <td>0</td>\n",
       "      <td>0</td>\n",
       "      <td>0</td>\n",
       "      <td>0</td>\n",
       "      <td>...</td>\n",
       "      <td>14</td>\n",
       "      <td>35608</td>\n",
       "      <td>5245</td>\n",
       "      <td>47455</td>\n",
       "      <td>0.0</td>\n",
       "      <td>8.0</td>\n",
       "      <td>-22,0572</td>\n",
       "      <td>-46,9735</td>\n",
       "      <td>9</td>\n",
       "      <td>3</td>\n",
       "    </tr>\n",
       "    <tr>\n",
       "      <th>3</th>\n",
       "      <td>Águas da Prata</td>\n",
       "      <td>3500402</td>\n",
       "      <td>25</td>\n",
       "      <td>2</td>\n",
       "      <td>2020-02-25</td>\n",
       "      <td>0</td>\n",
       "      <td>0</td>\n",
       "      <td>0</td>\n",
       "      <td>0</td>\n",
       "      <td>0</td>\n",
       "      <td>...</td>\n",
       "      <td>14</td>\n",
       "      <td>7797</td>\n",
       "      <td>1729</td>\n",
       "      <td>14267</td>\n",
       "      <td>0.0</td>\n",
       "      <td>8.0</td>\n",
       "      <td>-21,9319</td>\n",
       "      <td>-46,7176</td>\n",
       "      <td>9</td>\n",
       "      <td>4</td>\n",
       "    </tr>\n",
       "    <tr>\n",
       "      <th>4</th>\n",
       "      <td>Águas de Lindóia</td>\n",
       "      <td>3500501</td>\n",
       "      <td>25</td>\n",
       "      <td>2</td>\n",
       "      <td>2020-02-25</td>\n",
       "      <td>0</td>\n",
       "      <td>0</td>\n",
       "      <td>0</td>\n",
       "      <td>0</td>\n",
       "      <td>0</td>\n",
       "      <td>...</td>\n",
       "      <td>3</td>\n",
       "      <td>18374</td>\n",
       "      <td>3275</td>\n",
       "      <td>6013</td>\n",
       "      <td>0.0</td>\n",
       "      <td>8.0</td>\n",
       "      <td>-22,4733</td>\n",
       "      <td>-46,6314</td>\n",
       "      <td>9</td>\n",
       "      <td>5</td>\n",
       "    </tr>\n",
       "  </tbody>\n",
       "</table>\n",
       "<p>5 rows × 27 columns</p>\n",
       "</div>"
      ],
      "text/plain": [
       "         nome_munic  codigo_ibge  dia  mes   datahora  casos  casos_novos  \\\n",
       "0        Adamantina      3500105   25    2 2020-02-25      0            0   \n",
       "1            Adolfo      3500204   25    2 2020-02-25      0            0   \n",
       "2             Aguaí      3500303   25    2 2020-02-25      0            0   \n",
       "3    Águas da Prata      3500402   25    2 2020-02-25      0            0   \n",
       "4  Águas de Lindóia      3500501   25    2 2020-02-25      0            0   \n",
       "\n",
       "   casos_pc  casos_mm7d  obitos  ...  cod_drs    pop  pop_60   area map_leg  \\\n",
       "0         0           0       0  ...        5  33894    7398  41199     0.0   \n",
       "1         0           0       0  ...       15   3447     761  21106     0.0   \n",
       "2         0           0       0  ...       14  35608    5245  47455     0.0   \n",
       "3         0           0       0  ...       14   7797    1729  14267     0.0   \n",
       "4         0           0       0  ...        3  18374    3275   6013     0.0   \n",
       "\n",
       "   map_leg_s  latitude  longitude  semana_epidem  indice  \n",
       "0        8.0   -21,682   -51,0737              9       1  \n",
       "1        8.0  -21,2325   -49,6451              9       2  \n",
       "2        8.0  -22,0572   -46,9735              9       3  \n",
       "3        8.0  -21,9319   -46,7176              9       4  \n",
       "4        8.0  -22,4733   -46,6314              9       5  \n",
       "\n",
       "[5 rows x 27 columns]"
      ]
     },
     "execution_count": 11,
     "metadata": {},
     "output_type": "execute_result"
    }
   ],
   "source": [
    "covid_sp['indice'] = range(1,374035)\n",
    "covid_sp.head()"
   ]
  },
  {
   "cell_type": "code",
   "execution_count": 12,
   "metadata": {},
   "outputs": [],
   "source": [
    "covid_sp.set_index(covid_sp['indice'], inplace=True)"
   ]
  },
  {
   "cell_type": "code",
   "execution_count": 13,
   "metadata": {},
   "outputs": [
    {
     "data": {
      "text/html": [
       "<div>\n",
       "<style scoped>\n",
       "    .dataframe tbody tr th:only-of-type {\n",
       "        vertical-align: middle;\n",
       "    }\n",
       "\n",
       "    .dataframe tbody tr th {\n",
       "        vertical-align: top;\n",
       "    }\n",
       "\n",
       "    .dataframe thead th {\n",
       "        text-align: right;\n",
       "    }\n",
       "</style>\n",
       "<table border=\"1\" class=\"dataframe\">\n",
       "  <thead>\n",
       "    <tr style=\"text-align: right;\">\n",
       "      <th></th>\n",
       "      <th>nome_munic</th>\n",
       "      <th>codigo_ibge</th>\n",
       "      <th>dia</th>\n",
       "      <th>mes</th>\n",
       "      <th>datahora</th>\n",
       "      <th>casos</th>\n",
       "      <th>casos_novos</th>\n",
       "      <th>casos_pc</th>\n",
       "      <th>casos_mm7d</th>\n",
       "      <th>obitos</th>\n",
       "      <th>...</th>\n",
       "      <th>cod_drs</th>\n",
       "      <th>pop</th>\n",
       "      <th>pop_60</th>\n",
       "      <th>area</th>\n",
       "      <th>map_leg</th>\n",
       "      <th>map_leg_s</th>\n",
       "      <th>latitude</th>\n",
       "      <th>longitude</th>\n",
       "      <th>semana_epidem</th>\n",
       "      <th>indice</th>\n",
       "    </tr>\n",
       "    <tr>\n",
       "      <th>indice</th>\n",
       "      <th></th>\n",
       "      <th></th>\n",
       "      <th></th>\n",
       "      <th></th>\n",
       "      <th></th>\n",
       "      <th></th>\n",
       "      <th></th>\n",
       "      <th></th>\n",
       "      <th></th>\n",
       "      <th></th>\n",
       "      <th></th>\n",
       "      <th></th>\n",
       "      <th></th>\n",
       "      <th></th>\n",
       "      <th></th>\n",
       "      <th></th>\n",
       "      <th></th>\n",
       "      <th></th>\n",
       "      <th></th>\n",
       "      <th></th>\n",
       "      <th></th>\n",
       "    </tr>\n",
       "  </thead>\n",
       "  <tbody>\n",
       "    <tr>\n",
       "      <th>1</th>\n",
       "      <td>Adamantina</td>\n",
       "      <td>3500105</td>\n",
       "      <td>25</td>\n",
       "      <td>2</td>\n",
       "      <td>2020-02-25</td>\n",
       "      <td>0</td>\n",
       "      <td>0</td>\n",
       "      <td>0</td>\n",
       "      <td>0</td>\n",
       "      <td>0</td>\n",
       "      <td>...</td>\n",
       "      <td>5</td>\n",
       "      <td>33894</td>\n",
       "      <td>7398</td>\n",
       "      <td>41199</td>\n",
       "      <td>0.0</td>\n",
       "      <td>8.0</td>\n",
       "      <td>-21,682</td>\n",
       "      <td>-51,0737</td>\n",
       "      <td>9</td>\n",
       "      <td>1</td>\n",
       "    </tr>\n",
       "    <tr>\n",
       "      <th>2</th>\n",
       "      <td>Adolfo</td>\n",
       "      <td>3500204</td>\n",
       "      <td>25</td>\n",
       "      <td>2</td>\n",
       "      <td>2020-02-25</td>\n",
       "      <td>0</td>\n",
       "      <td>0</td>\n",
       "      <td>0</td>\n",
       "      <td>0</td>\n",
       "      <td>0</td>\n",
       "      <td>...</td>\n",
       "      <td>15</td>\n",
       "      <td>3447</td>\n",
       "      <td>761</td>\n",
       "      <td>21106</td>\n",
       "      <td>0.0</td>\n",
       "      <td>8.0</td>\n",
       "      <td>-21,2325</td>\n",
       "      <td>-49,6451</td>\n",
       "      <td>9</td>\n",
       "      <td>2</td>\n",
       "    </tr>\n",
       "    <tr>\n",
       "      <th>3</th>\n",
       "      <td>Aguaí</td>\n",
       "      <td>3500303</td>\n",
       "      <td>25</td>\n",
       "      <td>2</td>\n",
       "      <td>2020-02-25</td>\n",
       "      <td>0</td>\n",
       "      <td>0</td>\n",
       "      <td>0</td>\n",
       "      <td>0</td>\n",
       "      <td>0</td>\n",
       "      <td>...</td>\n",
       "      <td>14</td>\n",
       "      <td>35608</td>\n",
       "      <td>5245</td>\n",
       "      <td>47455</td>\n",
       "      <td>0.0</td>\n",
       "      <td>8.0</td>\n",
       "      <td>-22,0572</td>\n",
       "      <td>-46,9735</td>\n",
       "      <td>9</td>\n",
       "      <td>3</td>\n",
       "    </tr>\n",
       "    <tr>\n",
       "      <th>4</th>\n",
       "      <td>Águas da Prata</td>\n",
       "      <td>3500402</td>\n",
       "      <td>25</td>\n",
       "      <td>2</td>\n",
       "      <td>2020-02-25</td>\n",
       "      <td>0</td>\n",
       "      <td>0</td>\n",
       "      <td>0</td>\n",
       "      <td>0</td>\n",
       "      <td>0</td>\n",
       "      <td>...</td>\n",
       "      <td>14</td>\n",
       "      <td>7797</td>\n",
       "      <td>1729</td>\n",
       "      <td>14267</td>\n",
       "      <td>0.0</td>\n",
       "      <td>8.0</td>\n",
       "      <td>-21,9319</td>\n",
       "      <td>-46,7176</td>\n",
       "      <td>9</td>\n",
       "      <td>4</td>\n",
       "    </tr>\n",
       "    <tr>\n",
       "      <th>5</th>\n",
       "      <td>Águas de Lindóia</td>\n",
       "      <td>3500501</td>\n",
       "      <td>25</td>\n",
       "      <td>2</td>\n",
       "      <td>2020-02-25</td>\n",
       "      <td>0</td>\n",
       "      <td>0</td>\n",
       "      <td>0</td>\n",
       "      <td>0</td>\n",
       "      <td>0</td>\n",
       "      <td>...</td>\n",
       "      <td>3</td>\n",
       "      <td>18374</td>\n",
       "      <td>3275</td>\n",
       "      <td>6013</td>\n",
       "      <td>0.0</td>\n",
       "      <td>8.0</td>\n",
       "      <td>-22,4733</td>\n",
       "      <td>-46,6314</td>\n",
       "      <td>9</td>\n",
       "      <td>5</td>\n",
       "    </tr>\n",
       "  </tbody>\n",
       "</table>\n",
       "<p>5 rows × 27 columns</p>\n",
       "</div>"
      ],
      "text/plain": [
       "              nome_munic  codigo_ibge  dia  mes   datahora  casos  \\\n",
       "indice                                                              \n",
       "1             Adamantina      3500105   25    2 2020-02-25      0   \n",
       "2                 Adolfo      3500204   25    2 2020-02-25      0   \n",
       "3                  Aguaí      3500303   25    2 2020-02-25      0   \n",
       "4         Águas da Prata      3500402   25    2 2020-02-25      0   \n",
       "5       Águas de Lindóia      3500501   25    2 2020-02-25      0   \n",
       "\n",
       "        casos_novos  casos_pc  casos_mm7d  obitos  ...  cod_drs    pop  \\\n",
       "indice                                             ...                   \n",
       "1                 0         0           0       0  ...        5  33894   \n",
       "2                 0         0           0       0  ...       15   3447   \n",
       "3                 0         0           0       0  ...       14  35608   \n",
       "4                 0         0           0       0  ...       14   7797   \n",
       "5                 0         0           0       0  ...        3  18374   \n",
       "\n",
       "        pop_60   area map_leg  map_leg_s  latitude  longitude  semana_epidem  \\\n",
       "indice                                                                         \n",
       "1         7398  41199     0.0        8.0   -21,682   -51,0737              9   \n",
       "2          761  21106     0.0        8.0  -21,2325   -49,6451              9   \n",
       "3         5245  47455     0.0        8.0  -22,0572   -46,9735              9   \n",
       "4         1729  14267     0.0        8.0  -21,9319   -46,7176              9   \n",
       "5         3275   6013     0.0        8.0  -22,4733   -46,6314              9   \n",
       "\n",
       "        indice  \n",
       "indice          \n",
       "1            1  \n",
       "2            2  \n",
       "3            3  \n",
       "4            4  \n",
       "5            5  \n",
       "\n",
       "[5 rows x 27 columns]"
      ]
     },
     "execution_count": 13,
     "metadata": {},
     "output_type": "execute_result"
    }
   ],
   "source": [
    "covid_sp.head()"
   ]
  },
  {
   "cell_type": "code",
   "execution_count": 14,
   "metadata": {},
   "outputs": [
    {
     "data": {
      "text/plain": [
       "['Adamantina',\n",
       " 'Adolfo',\n",
       " 'Aguaí',\n",
       " 'Águas da Prata',\n",
       " 'Águas de Lindóia',\n",
       " 'Águas de Santa Bárbara',\n",
       " 'Águas de São Pedro',\n",
       " 'Agudos',\n",
       " 'Alambari',\n",
       " 'Alfredo Marcondes',\n",
       " 'Altair',\n",
       " 'Altinópolis',\n",
       " 'Alto Alegre',\n",
       " 'Alumínio',\n",
       " 'Álvares Florence',\n",
       " 'Álvares Machado',\n",
       " 'Álvaro de Carvalho',\n",
       " 'Alvinlândia',\n",
       " 'Americana',\n",
       " 'Américo Brasiliense',\n",
       " 'Américo de Campos',\n",
       " 'Amparo',\n",
       " 'Analândia',\n",
       " 'Andradina',\n",
       " 'Angatuba',\n",
       " 'Anhembi',\n",
       " 'Anhumas',\n",
       " 'Aparecida',\n",
       " \"Aparecida d'Oeste\",\n",
       " 'Apiaí',\n",
       " 'Araçariguama',\n",
       " 'Araçatuba',\n",
       " 'Araçoiaba da Serra',\n",
       " 'Aramina',\n",
       " 'Arandu',\n",
       " 'Arapeí',\n",
       " 'Araraquara',\n",
       " 'Araras',\n",
       " 'Arco-Íris',\n",
       " 'Arealva',\n",
       " 'Areias',\n",
       " 'Areiópolis',\n",
       " 'Ariranha',\n",
       " 'Artur Nogueira',\n",
       " 'Arujá',\n",
       " 'Aspásia',\n",
       " 'Assis',\n",
       " 'Atibaia',\n",
       " 'Auriflama',\n",
       " 'Avaí',\n",
       " 'Avanhandava',\n",
       " 'Avaré',\n",
       " 'Bady Bassitt',\n",
       " 'Balbinos',\n",
       " 'Bálsamo',\n",
       " 'Bananal',\n",
       " 'Barão de Antonina',\n",
       " 'Barbosa',\n",
       " 'Bariri',\n",
       " 'Barra Bonita',\n",
       " 'Barra do Chapéu',\n",
       " 'Barra do Turvo',\n",
       " 'Barretos',\n",
       " 'Barrinha',\n",
       " 'Barueri',\n",
       " 'Bastos',\n",
       " 'Batatais',\n",
       " 'Bauru',\n",
       " 'Bebedouro',\n",
       " 'Bento de Abreu',\n",
       " 'Bernardino de Campos',\n",
       " 'Bertioga',\n",
       " 'Bilac',\n",
       " 'Birigui',\n",
       " 'Biritiba Mirim',\n",
       " 'Boa Esperança do Sul',\n",
       " 'Bocaina',\n",
       " 'Bofete',\n",
       " 'Boituva',\n",
       " 'Bom Jesus dos Perdões',\n",
       " 'Bom Sucesso de Itararé',\n",
       " 'Borá',\n",
       " 'Boracéia',\n",
       " 'Borborema',\n",
       " 'Borebi',\n",
       " 'Botucatu',\n",
       " 'Bragança Paulista',\n",
       " 'Braúna',\n",
       " 'Brejo Alegre',\n",
       " 'Brodowski',\n",
       " 'Brotas',\n",
       " 'Buri',\n",
       " 'Buritama',\n",
       " 'Buritizal',\n",
       " 'Cabrália Paulista',\n",
       " 'Cabreúva',\n",
       " 'Caçapava',\n",
       " 'Cachoeira Paulista',\n",
       " 'Caconde',\n",
       " 'Cafelândia',\n",
       " 'Caiabu',\n",
       " 'Caieiras',\n",
       " 'Caiuá',\n",
       " 'Cajamar',\n",
       " 'Cajati',\n",
       " 'Cajobi',\n",
       " 'Cajuru',\n",
       " 'Campina do Monte Alegre',\n",
       " 'Campinas',\n",
       " 'Campo Limpo Paulista',\n",
       " 'Campos do Jordão',\n",
       " 'Campos Novos Paulista',\n",
       " 'Cananéia',\n",
       " 'Canas',\n",
       " 'Cândido Mota',\n",
       " 'Cândido Rodrigues',\n",
       " 'Canitar',\n",
       " 'Capão Bonito',\n",
       " 'Capela do Alto',\n",
       " 'Capivari',\n",
       " 'Caraguatatuba',\n",
       " 'Carapicuíba',\n",
       " 'Cardoso',\n",
       " 'Casa Branca',\n",
       " 'Cássia dos Coqueiros',\n",
       " 'Castilho',\n",
       " 'Catanduva',\n",
       " 'Catiguá',\n",
       " 'Cedral',\n",
       " 'Cerqueira César',\n",
       " 'Cerquilho',\n",
       " 'Cesário Lange',\n",
       " 'Charqueada',\n",
       " 'Clementina',\n",
       " 'Colina',\n",
       " 'Colômbia',\n",
       " 'Conchal',\n",
       " 'Conchas',\n",
       " 'Cordeirópolis',\n",
       " 'Coroados',\n",
       " 'Coronel Macedo',\n",
       " 'Corumbataí',\n",
       " 'Cosmópolis',\n",
       " 'Cosmorama',\n",
       " 'Cotia',\n",
       " 'Cravinhos',\n",
       " 'Cristais Paulista',\n",
       " 'Cruzália',\n",
       " 'Cruzeiro',\n",
       " 'Cubatão',\n",
       " 'Cunha',\n",
       " 'Descalvado',\n",
       " 'Diadema',\n",
       " 'Dirce Reis',\n",
       " 'Divinolândia',\n",
       " 'Dobrada',\n",
       " 'Dois Córregos',\n",
       " 'Dolcinópolis',\n",
       " 'Dourado',\n",
       " 'Dracena',\n",
       " 'Duartina',\n",
       " 'Dumont',\n",
       " 'Echaporã',\n",
       " 'Eldorado',\n",
       " 'Elias Fausto',\n",
       " 'Elisiário',\n",
       " 'Embaúba',\n",
       " 'Embu das Artes',\n",
       " 'Embu-Guaçu',\n",
       " 'Emilianópolis',\n",
       " 'Engenheiro Coelho',\n",
       " 'Espírito Santo do Pinhal',\n",
       " 'Espírito Santo do Turvo',\n",
       " \"Estrela d'Oeste\",\n",
       " 'Estrela do Norte',\n",
       " 'Euclides da Cunha Paulista',\n",
       " 'Fartura',\n",
       " 'Fernandópolis',\n",
       " 'Fernando Prestes',\n",
       " 'Fernão',\n",
       " 'Ferraz de Vasconcelos',\n",
       " 'Flora Rica',\n",
       " 'Floreal',\n",
       " 'Flórida Paulista',\n",
       " 'Florínea',\n",
       " 'Franca',\n",
       " 'Francisco Morato',\n",
       " 'Franco da Rocha',\n",
       " 'Gabriel Monteiro',\n",
       " 'Gália',\n",
       " 'Garça',\n",
       " 'Gastão Vidigal',\n",
       " 'Gavião Peixoto',\n",
       " 'General Salgado',\n",
       " 'Getulina',\n",
       " 'Glicério',\n",
       " 'Guaiçara',\n",
       " 'Guaimbê',\n",
       " 'Guaíra',\n",
       " 'Guapiaçu',\n",
       " 'Guapiara',\n",
       " 'Guará',\n",
       " 'Guaraçaí',\n",
       " 'Guaraci',\n",
       " \"Guarani d'Oeste\",\n",
       " 'Guarantã',\n",
       " 'Guararapes',\n",
       " 'Guararema',\n",
       " 'Guaratinguetá',\n",
       " 'Guareí',\n",
       " 'Guariba',\n",
       " 'Guarujá',\n",
       " 'Guarulhos',\n",
       " 'Guatapará',\n",
       " 'Guzolândia',\n",
       " 'Herculândia',\n",
       " 'Holambra',\n",
       " 'Hortolândia',\n",
       " 'Iacanga',\n",
       " 'Iacri',\n",
       " 'Iaras',\n",
       " 'Ibaté',\n",
       " 'Ibirá',\n",
       " 'Ibirarema',\n",
       " 'Ibitinga',\n",
       " 'Ibiúna',\n",
       " 'Icém',\n",
       " 'Iepê',\n",
       " 'Igaraçu do Tietê',\n",
       " 'Igarapava',\n",
       " 'Igaratá',\n",
       " 'Iguape',\n",
       " 'Ilhabela',\n",
       " 'Ilha Comprida',\n",
       " 'Ilha Solteira',\n",
       " 'Indaiatuba',\n",
       " 'Indiana',\n",
       " 'Indiaporã',\n",
       " 'Inúbia Paulista',\n",
       " 'Ipaussu',\n",
       " 'Iperó',\n",
       " 'Ipeúna',\n",
       " 'Ipiguá',\n",
       " 'Iporanga',\n",
       " 'Ipuã',\n",
       " 'Iracemápolis',\n",
       " 'Irapuã',\n",
       " 'Irapuru',\n",
       " 'Itaberá',\n",
       " 'Itaí',\n",
       " 'Itajobi',\n",
       " 'Itaju',\n",
       " 'Itanhaém',\n",
       " 'Itaoca',\n",
       " 'Itapecerica da Serra',\n",
       " 'Itapetininga',\n",
       " 'Itapeva',\n",
       " 'Itapevi',\n",
       " 'Itapira',\n",
       " 'Itapirapuã Paulista',\n",
       " 'Itápolis',\n",
       " 'Itaporanga',\n",
       " 'Itapuí',\n",
       " 'Itapura',\n",
       " 'Itaquaquecetuba',\n",
       " 'Itararé',\n",
       " 'Itariri',\n",
       " 'Itatiba',\n",
       " 'Itatinga',\n",
       " 'Itirapina',\n",
       " 'Itirapuã',\n",
       " 'Itobi',\n",
       " 'Itu',\n",
       " 'Itupeva',\n",
       " 'Ituverava',\n",
       " 'Jaborandi',\n",
       " 'Jaboticabal',\n",
       " 'Jacareí',\n",
       " 'Jaci',\n",
       " 'Jacupiranga',\n",
       " 'Jaguariúna',\n",
       " 'Jales',\n",
       " 'Jambeiro',\n",
       " 'Jandira',\n",
       " 'Jardinópolis',\n",
       " 'Jarinu',\n",
       " 'Jaú',\n",
       " 'Jeriquara',\n",
       " 'Joanópolis',\n",
       " 'João Ramalho',\n",
       " 'José Bonifácio',\n",
       " 'Júlio Mesquita',\n",
       " 'Jumirim',\n",
       " 'Jundiaí',\n",
       " 'Junqueirópolis',\n",
       " 'Juquiá',\n",
       " 'Juquitiba',\n",
       " 'Lagoinha',\n",
       " 'Laranjal Paulista',\n",
       " 'Lavínia',\n",
       " 'Lavrinhas',\n",
       " 'Leme',\n",
       " 'Lençóis Paulista',\n",
       " 'Limeira',\n",
       " 'Lindóia',\n",
       " 'Lins',\n",
       " 'Lorena',\n",
       " 'Lourdes',\n",
       " 'Louveira',\n",
       " 'Lucélia',\n",
       " 'Lucianópolis',\n",
       " 'Luís Antônio',\n",
       " 'Luiziânia',\n",
       " 'Lupércio',\n",
       " 'Lutécia',\n",
       " 'Macatuba',\n",
       " 'Macaubal',\n",
       " 'Macedônia',\n",
       " 'Magda',\n",
       " 'Mairinque',\n",
       " 'Mairiporã',\n",
       " 'Manduri',\n",
       " 'Marabá Paulista',\n",
       " 'Maracaí',\n",
       " 'Marapoama',\n",
       " 'Mariápolis',\n",
       " 'Marília',\n",
       " 'Marinópolis',\n",
       " 'Martinópolis',\n",
       " 'Matão',\n",
       " 'Mauá',\n",
       " 'Mendonça',\n",
       " 'Meridiano',\n",
       " 'Mesópolis',\n",
       " 'Miguelópolis',\n",
       " 'Mineiros do Tietê',\n",
       " 'Miracatu',\n",
       " 'Mira Estrela',\n",
       " 'Mirandópolis',\n",
       " 'Mirante do Paranapanema',\n",
       " 'Mirassol',\n",
       " 'Mirassolândia',\n",
       " 'Mococa',\n",
       " 'Mogi das Cruzes',\n",
       " 'Mogi Guaçu',\n",
       " 'Mogi Mirim',\n",
       " 'Mombuca',\n",
       " 'Monções',\n",
       " 'Mongaguá',\n",
       " 'Monte Alegre do Sul',\n",
       " 'Monte Alto',\n",
       " 'Monte Aprazível',\n",
       " 'Monte Azul Paulista',\n",
       " 'Monte Castelo',\n",
       " 'Monteiro Lobato',\n",
       " 'Monte Mor',\n",
       " 'Morro Agudo',\n",
       " 'Morungaba',\n",
       " 'Motuca',\n",
       " 'Murutinga do Sul',\n",
       " 'Nantes',\n",
       " 'Narandiba',\n",
       " 'Natividade da Serra',\n",
       " 'Nazaré Paulista',\n",
       " 'Neves Paulista',\n",
       " 'Nhandeara',\n",
       " 'Nipoã',\n",
       " 'Nova Aliança',\n",
       " 'Nova Campina',\n",
       " 'Nova Canaã Paulista',\n",
       " 'Nova Castilho',\n",
       " 'Nova Europa',\n",
       " 'Nova Granada',\n",
       " 'Nova Guataporanga',\n",
       " 'Nova Independência',\n",
       " 'Novais',\n",
       " 'Nova Luzitânia',\n",
       " 'Nova Odessa',\n",
       " 'Novo Horizonte',\n",
       " 'Nuporanga',\n",
       " 'Ocauçu',\n",
       " 'Óleo',\n",
       " 'Olímpia',\n",
       " 'Onda Verde',\n",
       " 'Oriente',\n",
       " 'Orindiúva',\n",
       " 'Orlândia',\n",
       " 'Osasco',\n",
       " 'Oscar Bressane',\n",
       " 'Osvaldo Cruz',\n",
       " 'Ourinhos',\n",
       " 'Ouroeste',\n",
       " 'Ouro Verde',\n",
       " 'Pacaembu',\n",
       " 'Palestina',\n",
       " 'Palmares Paulista',\n",
       " \"Palmeira d'Oeste\",\n",
       " 'Palmital',\n",
       " 'Panorama',\n",
       " 'Paraguaçu Paulista',\n",
       " 'Paraibuna',\n",
       " 'Paraíso',\n",
       " 'Paranapanema',\n",
       " 'Paranapuã',\n",
       " 'Parapuã',\n",
       " 'Pardinho',\n",
       " 'Pariquera-Açu',\n",
       " 'Parisi',\n",
       " 'Patrocínio Paulista',\n",
       " 'Paulicéia',\n",
       " 'Paulínia',\n",
       " 'Paulistânia',\n",
       " 'Paulo de Faria',\n",
       " 'Pederneiras',\n",
       " 'Pedra Bela',\n",
       " 'Pedranópolis',\n",
       " 'Pedregulho',\n",
       " 'Pedreira',\n",
       " 'Pedrinhas Paulista',\n",
       " 'Pedro de Toledo',\n",
       " 'Penápolis',\n",
       " 'Pereira Barreto',\n",
       " 'Pereiras',\n",
       " 'Peruíbe',\n",
       " 'Piacatu',\n",
       " 'Piedade',\n",
       " 'Pilar do Sul',\n",
       " 'Pindamonhangaba',\n",
       " 'Pindorama',\n",
       " 'Pinhalzinho',\n",
       " 'Piquerobi',\n",
       " 'Piquete',\n",
       " 'Piracaia',\n",
       " 'Piracicaba',\n",
       " 'Piraju',\n",
       " 'Pirajuí',\n",
       " 'Pirangi',\n",
       " 'Pirapora do Bom Jesus',\n",
       " 'Pirapozinho',\n",
       " 'Pirassununga',\n",
       " 'Piratininga',\n",
       " 'Pitangueiras',\n",
       " 'Planalto',\n",
       " 'Platina',\n",
       " 'Poá',\n",
       " 'Poloni',\n",
       " 'Pompéia',\n",
       " 'Pongaí',\n",
       " 'Pontal',\n",
       " 'Pontalinda',\n",
       " 'Pontes Gestal',\n",
       " 'Populina',\n",
       " 'Porangaba',\n",
       " 'Porto Feliz',\n",
       " 'Porto Ferreira',\n",
       " 'Potim',\n",
       " 'Potirendaba',\n",
       " 'Pracinha',\n",
       " 'Pradópolis',\n",
       " 'Praia Grande',\n",
       " 'Pratânia',\n",
       " 'Presidente Alves',\n",
       " 'Presidente Bernardes',\n",
       " 'Presidente Epitácio',\n",
       " 'Presidente Prudente',\n",
       " 'Presidente Venceslau',\n",
       " 'Promissão',\n",
       " 'Quadra',\n",
       " 'Quatá',\n",
       " 'Queiroz',\n",
       " 'Queluz',\n",
       " 'Quintana',\n",
       " 'Rafard',\n",
       " 'Rancharia',\n",
       " 'Redenção da Serra',\n",
       " 'Regente Feijó',\n",
       " 'Reginópolis',\n",
       " 'Registro',\n",
       " 'Restinga',\n",
       " 'Ribeira',\n",
       " 'Ribeirão Bonito',\n",
       " 'Ribeirão Branco',\n",
       " 'Ribeirão Corrente',\n",
       " 'Ribeirão do Sul',\n",
       " 'Ribeirão dos Índios',\n",
       " 'Ribeirão Grande',\n",
       " 'Ribeirão Pires',\n",
       " 'Ribeirão Preto',\n",
       " 'Riversul',\n",
       " 'Rifaina',\n",
       " 'Rincão',\n",
       " 'Rinópolis',\n",
       " 'Rio Claro',\n",
       " 'Rio das Pedras',\n",
       " 'Rio Grande da Serra',\n",
       " 'Riolândia',\n",
       " 'Rosana',\n",
       " 'Roseira',\n",
       " 'Rubiácea',\n",
       " 'Rubinéia',\n",
       " 'Sabino',\n",
       " 'Sagres',\n",
       " 'Sales',\n",
       " 'Sales Oliveira',\n",
       " 'Salesópolis',\n",
       " 'Salmourão',\n",
       " 'Saltinho',\n",
       " 'Salto',\n",
       " 'Salto de Pirapora',\n",
       " 'Salto Grande',\n",
       " 'Sandovalina',\n",
       " 'Santa Adélia',\n",
       " 'Santa Albertina',\n",
       " \"Santa Bárbara d'Oeste\",\n",
       " 'Santa Branca',\n",
       " \"Santa Clara d'Oeste\",\n",
       " 'Santa Cruz da Conceição',\n",
       " 'Santa Cruz da Esperança',\n",
       " 'Santa Cruz das Palmeiras',\n",
       " 'Santa Cruz do Rio Pardo',\n",
       " 'Santa Ernestina',\n",
       " 'Santa Fé do Sul',\n",
       " 'Santa Gertrudes',\n",
       " 'Santa Isabel',\n",
       " 'Santa Lúcia',\n",
       " 'Santa Maria da Serra',\n",
       " 'Santa Mercedes',\n",
       " 'Santana da Ponte Pensa',\n",
       " 'Santana de Parnaíba',\n",
       " \"Santa Rita d'Oeste\",\n",
       " 'Santa Rita do Passa Quatro',\n",
       " 'Santa Rosa de Viterbo',\n",
       " 'Santa Salete',\n",
       " 'Santo Anastácio',\n",
       " 'Santo André',\n",
       " 'Santo Antônio da Alegria',\n",
       " 'Santo Antônio de Posse',\n",
       " 'Santo Antônio do Aracanguá',\n",
       " 'Santo Antônio do Jardim',\n",
       " 'Santo Antônio do Pinhal',\n",
       " 'Santo Expedito',\n",
       " 'Santópolis do Aguapeí',\n",
       " 'Santos',\n",
       " 'São Bento do Sapucaí',\n",
       " 'São Bernardo do Campo',\n",
       " 'São Caetano do Sul',\n",
       " 'São Carlos',\n",
       " 'São Francisco',\n",
       " 'São João da Boa Vista',\n",
       " 'São João das Duas Pontes',\n",
       " 'São João de Iracema',\n",
       " \"São João do Pau d'Alho\",\n",
       " 'São Joaquim da Barra',\n",
       " 'São José da Bela Vista',\n",
       " 'São José do Barreiro',\n",
       " 'São José do Rio Pardo',\n",
       " 'São José do Rio Preto',\n",
       " 'São José dos Campos',\n",
       " 'São Lourenço da Serra',\n",
       " 'São Luiz do Paraitinga',\n",
       " 'São Manuel',\n",
       " 'São Miguel Arcanjo',\n",
       " 'São Paulo',\n",
       " 'São Pedro',\n",
       " 'São Pedro do Turvo',\n",
       " 'São Roque',\n",
       " 'São Sebastião',\n",
       " 'São Sebastião da Grama',\n",
       " 'São Simão',\n",
       " 'São Vicente',\n",
       " 'Sarapuí',\n",
       " 'Sarutaiá',\n",
       " 'Sebastianópolis do Sul',\n",
       " 'Serra Azul',\n",
       " 'Serrana',\n",
       " 'Serra Negra',\n",
       " 'Sertãozinho',\n",
       " 'Sete Barras',\n",
       " 'Severínia',\n",
       " 'Silveiras',\n",
       " 'Socorro',\n",
       " 'Sorocaba',\n",
       " 'Sud Mennucci',\n",
       " 'Sumaré',\n",
       " 'Suzano',\n",
       " 'Suzanápolis',\n",
       " 'Tabapuã',\n",
       " 'Tabatinga',\n",
       " 'Taboão da Serra',\n",
       " 'Taciba',\n",
       " 'Taguaí',\n",
       " 'Taiaçu',\n",
       " 'Taiúva',\n",
       " 'Tambaú',\n",
       " 'Tanabi',\n",
       " 'Tapiraí',\n",
       " 'Tapiratiba',\n",
       " 'Taquaral',\n",
       " 'Taquaritinga',\n",
       " 'Taquarituba',\n",
       " 'Taquarivaí',\n",
       " 'Tarabai',\n",
       " 'Tarumã',\n",
       " 'Tatuí',\n",
       " 'Taubaté',\n",
       " 'Tejupá',\n",
       " 'Teodoro Sampaio',\n",
       " 'Terra Roxa',\n",
       " 'Tietê',\n",
       " 'Timburi',\n",
       " 'Torre de Pedra',\n",
       " 'Torrinha',\n",
       " 'Trabiju',\n",
       " 'Tremembé',\n",
       " 'Três Fronteiras',\n",
       " 'Tuiuti',\n",
       " 'Tupã',\n",
       " 'Tupi Paulista',\n",
       " 'Turiúba',\n",
       " 'Turmalina',\n",
       " 'Ubarana',\n",
       " 'Ubatuba',\n",
       " 'Ubirajara',\n",
       " 'Uchoa',\n",
       " 'União Paulista',\n",
       " 'Urânia',\n",
       " 'Uru',\n",
       " 'Urupês',\n",
       " 'Valentim Gentil',\n",
       " 'Valinhos',\n",
       " 'Valparaíso',\n",
       " 'Vargem',\n",
       " 'Vargem Grande do Sul',\n",
       " 'Vargem Grande Paulista',\n",
       " 'Várzea Paulista',\n",
       " 'Vera Cruz',\n",
       " 'Vinhedo',\n",
       " 'Viradouro',\n",
       " 'Vista Alegre do Alto',\n",
       " 'Vitória Brasil',\n",
       " 'Votorantim',\n",
       " 'Votuporanga',\n",
       " 'Zacarias',\n",
       " 'Chavantes',\n",
       " 'Estiva Gerbi',\n",
       " 'Adamantina',\n",
       " 'Adolfo',\n",
       " 'Aguaí',\n",
       " 'Águas da Prata',\n",
       " 'Águas de Lindóia',\n",
       " 'Águas de Santa Bárbara',\n",
       " 'Águas de São Pedro',\n",
       " 'Agudos',\n",
       " 'Alambari',\n",
       " 'Alfredo Marcondes',\n",
       " 'Altair',\n",
       " 'Altinópolis',\n",
       " 'Alto Alegre',\n",
       " 'Alumínio',\n",
       " 'Álvares Florence',\n",
       " 'Álvares Machado',\n",
       " 'Álvaro de Carvalho',\n",
       " 'Alvinlândia',\n",
       " 'Americana',\n",
       " 'Américo Brasiliense',\n",
       " 'Américo de Campos',\n",
       " 'Amparo',\n",
       " 'Analândia',\n",
       " 'Andradina',\n",
       " 'Angatuba',\n",
       " 'Anhembi',\n",
       " 'Anhumas',\n",
       " 'Aparecida',\n",
       " \"Aparecida d'Oeste\",\n",
       " 'Apiaí',\n",
       " 'Araçariguama',\n",
       " 'Araçatuba',\n",
       " 'Araçoiaba da Serra',\n",
       " 'Aramina',\n",
       " 'Arandu',\n",
       " 'Arapeí',\n",
       " 'Araraquara',\n",
       " 'Araras',\n",
       " 'Arco-Íris',\n",
       " 'Arealva',\n",
       " 'Areias',\n",
       " 'Areiópolis',\n",
       " 'Ariranha',\n",
       " 'Artur Nogueira',\n",
       " 'Arujá',\n",
       " 'Aspásia',\n",
       " 'Assis',\n",
       " 'Atibaia',\n",
       " 'Auriflama',\n",
       " 'Avaí',\n",
       " 'Avanhandava',\n",
       " 'Avaré',\n",
       " 'Bady Bassitt',\n",
       " 'Balbinos',\n",
       " 'Bálsamo',\n",
       " 'Bananal',\n",
       " 'Barão de Antonina',\n",
       " 'Barbosa',\n",
       " 'Bariri',\n",
       " 'Barra Bonita',\n",
       " 'Barra do Chapéu',\n",
       " 'Barra do Turvo',\n",
       " 'Barretos',\n",
       " 'Barrinha',\n",
       " 'Barueri',\n",
       " 'Bastos',\n",
       " 'Batatais',\n",
       " 'Bauru',\n",
       " 'Bebedouro',\n",
       " 'Bento de Abreu',\n",
       " 'Bernardino de Campos',\n",
       " 'Bertioga',\n",
       " 'Bilac',\n",
       " 'Birigui',\n",
       " 'Biritiba Mirim',\n",
       " 'Boa Esperança do Sul',\n",
       " 'Bocaina',\n",
       " 'Bofete',\n",
       " 'Boituva',\n",
       " 'Bom Jesus dos Perdões',\n",
       " 'Bom Sucesso de Itararé',\n",
       " 'Borá',\n",
       " 'Boracéia',\n",
       " 'Borborema',\n",
       " 'Borebi',\n",
       " 'Botucatu',\n",
       " 'Bragança Paulista',\n",
       " 'Braúna',\n",
       " 'Brejo Alegre',\n",
       " 'Brodowski',\n",
       " 'Brotas',\n",
       " 'Buri',\n",
       " 'Buritama',\n",
       " 'Buritizal',\n",
       " 'Cabrália Paulista',\n",
       " 'Cabreúva',\n",
       " 'Caçapava',\n",
       " 'Cachoeira Paulista',\n",
       " 'Caconde',\n",
       " 'Cafelândia',\n",
       " 'Caiabu',\n",
       " 'Caieiras',\n",
       " 'Caiuá',\n",
       " 'Cajamar',\n",
       " 'Cajati',\n",
       " 'Cajobi',\n",
       " 'Cajuru',\n",
       " 'Campina do Monte Alegre',\n",
       " 'Campinas',\n",
       " 'Campo Limpo Paulista',\n",
       " 'Campos do Jordão',\n",
       " 'Campos Novos Paulista',\n",
       " 'Cananéia',\n",
       " 'Canas',\n",
       " 'Cândido Mota',\n",
       " 'Cândido Rodrigues',\n",
       " 'Canitar',\n",
       " 'Capão Bonito',\n",
       " 'Capela do Alto',\n",
       " 'Capivari',\n",
       " 'Caraguatatuba',\n",
       " 'Carapicuíba',\n",
       " 'Cardoso',\n",
       " 'Casa Branca',\n",
       " 'Cássia dos Coqueiros',\n",
       " 'Castilho',\n",
       " 'Catanduva',\n",
       " 'Catiguá',\n",
       " 'Cedral',\n",
       " 'Cerqueira César',\n",
       " 'Cerquilho',\n",
       " 'Cesário Lange',\n",
       " 'Charqueada',\n",
       " 'Clementina',\n",
       " 'Colina',\n",
       " 'Colômbia',\n",
       " 'Conchal',\n",
       " 'Conchas',\n",
       " 'Cordeirópolis',\n",
       " 'Coroados',\n",
       " 'Coronel Macedo',\n",
       " 'Corumbataí',\n",
       " 'Cosmópolis',\n",
       " 'Cosmorama',\n",
       " 'Cotia',\n",
       " 'Cravinhos',\n",
       " 'Cristais Paulista',\n",
       " 'Cruzália',\n",
       " 'Cruzeiro',\n",
       " 'Cubatão',\n",
       " 'Cunha',\n",
       " 'Descalvado',\n",
       " 'Diadema',\n",
       " 'Dirce Reis',\n",
       " 'Divinolândia',\n",
       " 'Dobrada',\n",
       " 'Dois Córregos',\n",
       " 'Dolcinópolis',\n",
       " 'Dourado',\n",
       " 'Dracena',\n",
       " 'Duartina',\n",
       " 'Dumont',\n",
       " 'Echaporã',\n",
       " 'Eldorado',\n",
       " 'Elias Fausto',\n",
       " 'Elisiário',\n",
       " 'Embaúba',\n",
       " 'Embu das Artes',\n",
       " 'Embu-Guaçu',\n",
       " 'Emilianópolis',\n",
       " 'Engenheiro Coelho',\n",
       " 'Espírito Santo do Pinhal',\n",
       " 'Espírito Santo do Turvo',\n",
       " \"Estrela d'Oeste\",\n",
       " 'Estrela do Norte',\n",
       " 'Euclides da Cunha Paulista',\n",
       " 'Fartura',\n",
       " 'Fernandópolis',\n",
       " 'Fernando Prestes',\n",
       " 'Fernão',\n",
       " 'Ferraz de Vasconcelos',\n",
       " 'Flora Rica',\n",
       " 'Floreal',\n",
       " 'Flórida Paulista',\n",
       " 'Florínea',\n",
       " 'Franca',\n",
       " 'Francisco Morato',\n",
       " 'Franco da Rocha',\n",
       " 'Gabriel Monteiro',\n",
       " 'Gália',\n",
       " 'Garça',\n",
       " 'Gastão Vidigal',\n",
       " 'Gavião Peixoto',\n",
       " 'General Salgado',\n",
       " 'Getulina',\n",
       " 'Glicério',\n",
       " 'Guaiçara',\n",
       " 'Guaimbê',\n",
       " 'Guaíra',\n",
       " 'Guapiaçu',\n",
       " 'Guapiara',\n",
       " 'Guará',\n",
       " 'Guaraçaí',\n",
       " 'Guaraci',\n",
       " \"Guarani d'Oeste\",\n",
       " 'Guarantã',\n",
       " 'Guararapes',\n",
       " 'Guararema',\n",
       " 'Guaratinguetá',\n",
       " 'Guareí',\n",
       " 'Guariba',\n",
       " 'Guarujá',\n",
       " 'Guarulhos',\n",
       " 'Guatapará',\n",
       " 'Guzolândia',\n",
       " 'Herculândia',\n",
       " 'Holambra',\n",
       " 'Hortolândia',\n",
       " 'Iacanga',\n",
       " 'Iacri',\n",
       " 'Iaras',\n",
       " 'Ibaté',\n",
       " 'Ibirá',\n",
       " 'Ibirarema',\n",
       " 'Ibitinga',\n",
       " 'Ibiúna',\n",
       " 'Icém',\n",
       " 'Iepê',\n",
       " 'Igaraçu do Tietê',\n",
       " 'Igarapava',\n",
       " 'Igaratá',\n",
       " 'Iguape',\n",
       " 'Ilhabela',\n",
       " 'Ilha Comprida',\n",
       " 'Ilha Solteira',\n",
       " 'Indaiatuba',\n",
       " 'Indiana',\n",
       " 'Indiaporã',\n",
       " 'Inúbia Paulista',\n",
       " 'Ipaussu',\n",
       " 'Iperó',\n",
       " 'Ipeúna',\n",
       " 'Ipiguá',\n",
       " 'Iporanga',\n",
       " 'Ipuã',\n",
       " 'Iracemápolis',\n",
       " 'Irapuã',\n",
       " 'Irapuru',\n",
       " 'Itaberá',\n",
       " 'Itaí',\n",
       " 'Itajobi',\n",
       " 'Itaju',\n",
       " 'Itanhaém',\n",
       " 'Itaoca',\n",
       " 'Itapecerica da Serra',\n",
       " 'Itapetininga',\n",
       " 'Itapeva',\n",
       " 'Itapevi',\n",
       " 'Itapira',\n",
       " 'Itapirapuã Paulista',\n",
       " 'Itápolis',\n",
       " 'Itaporanga',\n",
       " 'Itapuí',\n",
       " 'Itapura',\n",
       " 'Itaquaquecetuba',\n",
       " 'Itararé',\n",
       " 'Itariri',\n",
       " 'Itatiba',\n",
       " 'Itatinga',\n",
       " 'Itirapina',\n",
       " 'Itirapuã',\n",
       " 'Itobi',\n",
       " 'Itu',\n",
       " 'Itupeva',\n",
       " 'Ituverava',\n",
       " 'Jaborandi',\n",
       " 'Jaboticabal',\n",
       " 'Jacareí',\n",
       " 'Jaci',\n",
       " 'Jacupiranga',\n",
       " 'Jaguariúna',\n",
       " 'Jales',\n",
       " 'Jambeiro',\n",
       " 'Jandira',\n",
       " 'Jardinópolis',\n",
       " 'Jarinu',\n",
       " 'Jaú',\n",
       " 'Jeriquara',\n",
       " 'Joanópolis',\n",
       " 'João Ramalho',\n",
       " 'José Bonifácio',\n",
       " 'Júlio Mesquita',\n",
       " 'Jumirim',\n",
       " 'Jundiaí',\n",
       " 'Junqueirópolis',\n",
       " 'Juquiá',\n",
       " 'Juquitiba',\n",
       " 'Lagoinha',\n",
       " 'Laranjal Paulista',\n",
       " 'Lavínia',\n",
       " 'Lavrinhas',\n",
       " 'Leme',\n",
       " 'Lençóis Paulista',\n",
       " 'Limeira',\n",
       " 'Lindóia',\n",
       " 'Lins',\n",
       " 'Lorena',\n",
       " 'Lourdes',\n",
       " 'Louveira',\n",
       " 'Lucélia',\n",
       " 'Lucianópolis',\n",
       " 'Luís Antônio',\n",
       " 'Luiziânia',\n",
       " 'Lupércio',\n",
       " 'Lutécia',\n",
       " 'Macatuba',\n",
       " 'Macaubal',\n",
       " 'Macedônia',\n",
       " 'Magda',\n",
       " 'Mairinque',\n",
       " 'Mairiporã',\n",
       " 'Manduri',\n",
       " 'Marabá Paulista',\n",
       " 'Maracaí',\n",
       " 'Marapoama',\n",
       " 'Mariápolis',\n",
       " 'Marília',\n",
       " 'Marinópolis',\n",
       " 'Martinópolis',\n",
       " 'Matão',\n",
       " 'Mauá',\n",
       " 'Mendonça',\n",
       " 'Meridiano',\n",
       " 'Mesópolis',\n",
       " 'Miguelópolis',\n",
       " 'Mineiros do Tietê',\n",
       " 'Miracatu',\n",
       " 'Mira Estrela',\n",
       " 'Mirandópolis',\n",
       " 'Mirante do Paranapanema',\n",
       " 'Mirassol',\n",
       " 'Mirassolândia',\n",
       " 'Mococa',\n",
       " 'Mogi das Cruzes',\n",
       " 'Mogi Guaçu',\n",
       " 'Mogi Mirim',\n",
       " 'Mombuca',\n",
       " 'Monções',\n",
       " 'Mongaguá',\n",
       " 'Monte Alegre do Sul',\n",
       " 'Monte Alto',\n",
       " 'Monte Aprazível',\n",
       " 'Monte Azul Paulista',\n",
       " 'Monte Castelo',\n",
       " 'Monteiro Lobato',\n",
       " ...]"
      ]
     },
     "execution_count": 14,
     "metadata": {},
     "output_type": "execute_result"
    }
   ],
   "source": [
    "x = covid_sp['nome_munic'].values\n",
    "x = x.tolist()\n",
    "x"
   ]
  },
  {
   "cell_type": "code",
   "execution_count": 15,
   "metadata": {},
   "outputs": [
    {
     "data": {
      "text/plain": [
       "list"
      ]
     },
     "execution_count": 15,
     "metadata": {},
     "output_type": "execute_result"
    }
   ],
   "source": [
    "type(x)"
   ]
  },
  {
   "cell_type": "code",
   "execution_count": 16,
   "metadata": {},
   "outputs": [],
   "source": [
    "covid_sp.rename(columns={'nome_munic':'municipio'}, inplace=True)"
   ]
  },
  {
   "cell_type": "code",
   "execution_count": 17,
   "metadata": {},
   "outputs": [
    {
     "data": {
      "text/plain": [
       "municipio\n",
       "Adamantina         579\n",
       "Parapuã            579\n",
       "Pilar do Sul       579\n",
       "Pindamonhangaba    579\n",
       "Pindorama          579\n",
       "                  ... \n",
       "Holambra           579\n",
       "Hortolândia        579\n",
       "Iacanga            579\n",
       "Iacri              579\n",
       "Ignorado           579\n",
       "Name: count, Length: 646, dtype: int64"
      ]
     },
     "execution_count": 17,
     "metadata": {},
     "output_type": "execute_result"
    }
   ],
   "source": [
    "covid_sp['municipio'].value_counts()"
   ]
  },
  {
   "cell_type": "code",
   "execution_count": 18,
   "metadata": {},
   "outputs": [
    {
     "data": {
      "text/plain": [
       "(579, 27)"
      ]
     },
     "execution_count": 18,
     "metadata": {},
     "output_type": "execute_result"
    }
   ],
   "source": [
    "covid_sp[covid_sp['municipio']=='Ignorado'].shape"
   ]
  },
  {
   "cell_type": "code",
   "execution_count": 19,
   "metadata": {},
   "outputs": [
    {
     "data": {
      "text/plain": [
       "0.15479876160990713"
      ]
     },
     "execution_count": 19,
     "metadata": {},
     "output_type": "execute_result"
    }
   ],
   "source": [
    "len(covid_sp[covid_sp['municipio']=='Ignorado'])/len(covid_sp)*100"
   ]
  },
  {
   "cell_type": "code",
   "execution_count": 24,
   "metadata": {},
   "outputs": [
    {
     "data": {
      "text/plain": [
       "0.15479876160990713"
      ]
     },
     "execution_count": 24,
     "metadata": {},
     "output_type": "execute_result"
    }
   ],
   "source": [
    "579/len(covid_sp)*100"
   ]
  },
  {
   "cell_type": "code",
   "execution_count": 36,
   "metadata": {},
   "outputs": [
    {
     "data": {
      "text/html": [
       "<div>\n",
       "<style scoped>\n",
       "    .dataframe tbody tr th:only-of-type {\n",
       "        vertical-align: middle;\n",
       "    }\n",
       "\n",
       "    .dataframe tbody tr th {\n",
       "        vertical-align: top;\n",
       "    }\n",
       "\n",
       "    .dataframe thead th {\n",
       "        text-align: right;\n",
       "    }\n",
       "</style>\n",
       "<table border=\"1\" class=\"dataframe\">\n",
       "  <thead>\n",
       "    <tr style=\"text-align: right;\">\n",
       "      <th></th>\n",
       "      <th>municipio</th>\n",
       "      <th>codigo_ibge</th>\n",
       "      <th>dia</th>\n",
       "      <th>mes</th>\n",
       "      <th>datahora</th>\n",
       "      <th>casos</th>\n",
       "      <th>casos_novos</th>\n",
       "      <th>casos_pc</th>\n",
       "      <th>casos_mm7d</th>\n",
       "      <th>obitos</th>\n",
       "      <th>...</th>\n",
       "      <th>cod_drs</th>\n",
       "      <th>pop</th>\n",
       "      <th>pop_60</th>\n",
       "      <th>area</th>\n",
       "      <th>map_leg</th>\n",
       "      <th>map_leg_s</th>\n",
       "      <th>latitude</th>\n",
       "      <th>longitude</th>\n",
       "      <th>semana_epidem</th>\n",
       "      <th>indice</th>\n",
       "    </tr>\n",
       "    <tr>\n",
       "      <th>indice</th>\n",
       "      <th></th>\n",
       "      <th></th>\n",
       "      <th></th>\n",
       "      <th></th>\n",
       "      <th></th>\n",
       "      <th></th>\n",
       "      <th></th>\n",
       "      <th></th>\n",
       "      <th></th>\n",
       "      <th></th>\n",
       "      <th></th>\n",
       "      <th></th>\n",
       "      <th></th>\n",
       "      <th></th>\n",
       "      <th></th>\n",
       "      <th></th>\n",
       "      <th></th>\n",
       "      <th></th>\n",
       "      <th></th>\n",
       "      <th></th>\n",
       "      <th></th>\n",
       "    </tr>\n",
       "  </thead>\n",
       "  <tbody>\n",
       "    <tr>\n",
       "      <th>1</th>\n",
       "      <td>Adamantina</td>\n",
       "      <td>3500105</td>\n",
       "      <td>25</td>\n",
       "      <td>2</td>\n",
       "      <td>2020-02-25</td>\n",
       "      <td>0</td>\n",
       "      <td>0</td>\n",
       "      <td>0</td>\n",
       "      <td>0</td>\n",
       "      <td>0</td>\n",
       "      <td>...</td>\n",
       "      <td>5</td>\n",
       "      <td>33894</td>\n",
       "      <td>7398</td>\n",
       "      <td>41199</td>\n",
       "      <td>0.0</td>\n",
       "      <td>8.0</td>\n",
       "      <td>-21,682</td>\n",
       "      <td>-51,0737</td>\n",
       "      <td>9</td>\n",
       "      <td>1</td>\n",
       "    </tr>\n",
       "    <tr>\n",
       "      <th>2</th>\n",
       "      <td>Adolfo</td>\n",
       "      <td>3500204</td>\n",
       "      <td>25</td>\n",
       "      <td>2</td>\n",
       "      <td>2020-02-25</td>\n",
       "      <td>0</td>\n",
       "      <td>0</td>\n",
       "      <td>0</td>\n",
       "      <td>0</td>\n",
       "      <td>0</td>\n",
       "      <td>...</td>\n",
       "      <td>15</td>\n",
       "      <td>3447</td>\n",
       "      <td>761</td>\n",
       "      <td>21106</td>\n",
       "      <td>0.0</td>\n",
       "      <td>8.0</td>\n",
       "      <td>-21,2325</td>\n",
       "      <td>-49,6451</td>\n",
       "      <td>9</td>\n",
       "      <td>2</td>\n",
       "    </tr>\n",
       "  </tbody>\n",
       "</table>\n",
       "<p>2 rows × 27 columns</p>\n",
       "</div>"
      ],
      "text/plain": [
       "         municipio  codigo_ibge  dia  mes   datahora  casos  casos_novos  \\\n",
       "indice                                                                     \n",
       "1       Adamantina      3500105   25    2 2020-02-25      0            0   \n",
       "2           Adolfo      3500204   25    2 2020-02-25      0            0   \n",
       "\n",
       "        casos_pc  casos_mm7d  obitos  ...  cod_drs    pop  pop_60   area  \\\n",
       "indice                                ...                                  \n",
       "1              0           0       0  ...        5  33894    7398  41199   \n",
       "2              0           0       0  ...       15   3447     761  21106   \n",
       "\n",
       "       map_leg  map_leg_s  latitude  longitude  semana_epidem  indice  \n",
       "indice                                                                 \n",
       "1          0.0        8.0   -21,682   -51,0737              9       1  \n",
       "2          0.0        8.0  -21,2325   -49,6451              9       2  \n",
       "\n",
       "[2 rows x 27 columns]"
      ]
     },
     "execution_count": 36,
     "metadata": {},
     "output_type": "execute_result"
    }
   ],
   "source": [
    "covid_sp_mod = covid_sp[covid_sp['municipio']!='Ignorado']\n",
    "covid_sp_mod.head(2)"
   ]
  },
  {
   "cell_type": "code",
   "execution_count": 37,
   "metadata": {},
   "outputs": [
    {
     "data": {
      "text/plain": [
       "(373455, 27)"
      ]
     },
     "execution_count": 37,
     "metadata": {},
     "output_type": "execute_result"
    }
   ],
   "source": [
    "covid_sp_mod.shape"
   ]
  },
  {
   "cell_type": "code",
   "execution_count": 50,
   "metadata": {},
   "outputs": [],
   "source": [
    "# Meu intuito é comparar algumas cidades, logo não faz sentido usar dados da capital que obviamente irá apresentar os maiores valores.\n",
    "# Irei comparar as Cidades de Guarulhos e Campinas, fazendo uma rápida pesquisa, são as duas cidades mais populosas do estado de SP, depois da capital.\n",
    "\n",
    "guarulhos = covid_sp_mod[covid_sp_mod['municipio']=='Guarulhos'].reset_index(drop=True)\n",
    "campinas = covid_sp_mod[covid_sp_mod['municipio']=='Campinas'].reset_index(drop=True)"
   ]
  },
  {
   "cell_type": "code",
   "execution_count": 51,
   "metadata": {},
   "outputs": [
    {
     "data": {
      "text/html": [
       "<div>\n",
       "<style scoped>\n",
       "    .dataframe tbody tr th:only-of-type {\n",
       "        vertical-align: middle;\n",
       "    }\n",
       "\n",
       "    .dataframe tbody tr th {\n",
       "        vertical-align: top;\n",
       "    }\n",
       "\n",
       "    .dataframe thead th {\n",
       "        text-align: right;\n",
       "    }\n",
       "</style>\n",
       "<table border=\"1\" class=\"dataframe\">\n",
       "  <thead>\n",
       "    <tr style=\"text-align: right;\">\n",
       "      <th></th>\n",
       "      <th>municipio</th>\n",
       "      <th>codigo_ibge</th>\n",
       "      <th>dia</th>\n",
       "      <th>mes</th>\n",
       "      <th>datahora</th>\n",
       "      <th>casos</th>\n",
       "      <th>casos_novos</th>\n",
       "      <th>casos_pc</th>\n",
       "      <th>casos_mm7d</th>\n",
       "      <th>obitos</th>\n",
       "      <th>...</th>\n",
       "      <th>cod_drs</th>\n",
       "      <th>pop</th>\n",
       "      <th>pop_60</th>\n",
       "      <th>area</th>\n",
       "      <th>map_leg</th>\n",
       "      <th>map_leg_s</th>\n",
       "      <th>latitude</th>\n",
       "      <th>longitude</th>\n",
       "      <th>semana_epidem</th>\n",
       "      <th>indice</th>\n",
       "    </tr>\n",
       "  </thead>\n",
       "  <tbody>\n",
       "    <tr>\n",
       "      <th>0</th>\n",
       "      <td>Guarulhos</td>\n",
       "      <td>3518800</td>\n",
       "      <td>25</td>\n",
       "      <td>2</td>\n",
       "      <td>2020-02-25</td>\n",
       "      <td>0</td>\n",
       "      <td>0</td>\n",
       "      <td>0</td>\n",
       "      <td>0</td>\n",
       "      <td>0</td>\n",
       "      <td>...</td>\n",
       "      <td>10</td>\n",
       "      <td>1351275</td>\n",
       "      <td>162662</td>\n",
       "      <td>31868</td>\n",
       "      <td>0.0</td>\n",
       "      <td>8.0</td>\n",
       "      <td>-23,4538</td>\n",
       "      <td>-46,5333</td>\n",
       "      <td>9</td>\n",
       "      <td>213</td>\n",
       "    </tr>\n",
       "    <tr>\n",
       "      <th>1</th>\n",
       "      <td>Guarulhos</td>\n",
       "      <td>3518800</td>\n",
       "      <td>26</td>\n",
       "      <td>2</td>\n",
       "      <td>2020-02-26</td>\n",
       "      <td>0</td>\n",
       "      <td>0</td>\n",
       "      <td>0</td>\n",
       "      <td>0</td>\n",
       "      <td>0</td>\n",
       "      <td>...</td>\n",
       "      <td>10</td>\n",
       "      <td>1351275</td>\n",
       "      <td>162662</td>\n",
       "      <td>31868</td>\n",
       "      <td>0.0</td>\n",
       "      <td>8.0</td>\n",
       "      <td>-23,4538</td>\n",
       "      <td>-46,5333</td>\n",
       "      <td>9</td>\n",
       "      <td>858</td>\n",
       "    </tr>\n",
       "    <tr>\n",
       "      <th>2</th>\n",
       "      <td>Guarulhos</td>\n",
       "      <td>3518800</td>\n",
       "      <td>27</td>\n",
       "      <td>2</td>\n",
       "      <td>2020-02-27</td>\n",
       "      <td>0</td>\n",
       "      <td>0</td>\n",
       "      <td>0</td>\n",
       "      <td>0</td>\n",
       "      <td>0</td>\n",
       "      <td>...</td>\n",
       "      <td>10</td>\n",
       "      <td>1351275</td>\n",
       "      <td>162662</td>\n",
       "      <td>31868</td>\n",
       "      <td>0.0</td>\n",
       "      <td>8.0</td>\n",
       "      <td>-23,4538</td>\n",
       "      <td>-46,5333</td>\n",
       "      <td>9</td>\n",
       "      <td>1503</td>\n",
       "    </tr>\n",
       "    <tr>\n",
       "      <th>3</th>\n",
       "      <td>Guarulhos</td>\n",
       "      <td>3518800</td>\n",
       "      <td>28</td>\n",
       "      <td>2</td>\n",
       "      <td>2020-02-28</td>\n",
       "      <td>0</td>\n",
       "      <td>0</td>\n",
       "      <td>0</td>\n",
       "      <td>0</td>\n",
       "      <td>0</td>\n",
       "      <td>...</td>\n",
       "      <td>10</td>\n",
       "      <td>1351275</td>\n",
       "      <td>162662</td>\n",
       "      <td>31868</td>\n",
       "      <td>0.0</td>\n",
       "      <td>8.0</td>\n",
       "      <td>-23,4538</td>\n",
       "      <td>-46,5333</td>\n",
       "      <td>9</td>\n",
       "      <td>2148</td>\n",
       "    </tr>\n",
       "    <tr>\n",
       "      <th>4</th>\n",
       "      <td>Guarulhos</td>\n",
       "      <td>3518800</td>\n",
       "      <td>29</td>\n",
       "      <td>2</td>\n",
       "      <td>2020-02-29</td>\n",
       "      <td>0</td>\n",
       "      <td>0</td>\n",
       "      <td>0</td>\n",
       "      <td>0</td>\n",
       "      <td>0</td>\n",
       "      <td>...</td>\n",
       "      <td>10</td>\n",
       "      <td>1351275</td>\n",
       "      <td>162662</td>\n",
       "      <td>31868</td>\n",
       "      <td>0.0</td>\n",
       "      <td>8.0</td>\n",
       "      <td>-23,4538</td>\n",
       "      <td>-46,5333</td>\n",
       "      <td>9</td>\n",
       "      <td>2793</td>\n",
       "    </tr>\n",
       "    <tr>\n",
       "      <th>...</th>\n",
       "      <td>...</td>\n",
       "      <td>...</td>\n",
       "      <td>...</td>\n",
       "      <td>...</td>\n",
       "      <td>...</td>\n",
       "      <td>...</td>\n",
       "      <td>...</td>\n",
       "      <td>...</td>\n",
       "      <td>...</td>\n",
       "      <td>...</td>\n",
       "      <td>...</td>\n",
       "      <td>...</td>\n",
       "      <td>...</td>\n",
       "      <td>...</td>\n",
       "      <td>...</td>\n",
       "      <td>...</td>\n",
       "      <td>...</td>\n",
       "      <td>...</td>\n",
       "      <td>...</td>\n",
       "      <td>...</td>\n",
       "      <td>...</td>\n",
       "    </tr>\n",
       "    <tr>\n",
       "      <th>574</th>\n",
       "      <td>Guarulhos</td>\n",
       "      <td>3518800</td>\n",
       "      <td>21</td>\n",
       "      <td>9</td>\n",
       "      <td>2021-09-21</td>\n",
       "      <td>63334</td>\n",
       "      <td>28</td>\n",
       "      <td>4687</td>\n",
       "      <td>103</td>\n",
       "      <td>4857</td>\n",
       "      <td>...</td>\n",
       "      <td>10</td>\n",
       "      <td>1351275</td>\n",
       "      <td>162662</td>\n",
       "      <td>31868</td>\n",
       "      <td>NaN</td>\n",
       "      <td>1.0</td>\n",
       "      <td>-23,4538</td>\n",
       "      <td>-46,5333</td>\n",
       "      <td>38</td>\n",
       "      <td>370443</td>\n",
       "    </tr>\n",
       "    <tr>\n",
       "      <th>575</th>\n",
       "      <td>Guarulhos</td>\n",
       "      <td>3518800</td>\n",
       "      <td>22</td>\n",
       "      <td>9</td>\n",
       "      <td>2021-09-22</td>\n",
       "      <td>63351</td>\n",
       "      <td>17</td>\n",
       "      <td>4688</td>\n",
       "      <td>105</td>\n",
       "      <td>4861</td>\n",
       "      <td>...</td>\n",
       "      <td>10</td>\n",
       "      <td>1351275</td>\n",
       "      <td>162662</td>\n",
       "      <td>31868</td>\n",
       "      <td>NaN</td>\n",
       "      <td>1.0</td>\n",
       "      <td>-23,4538</td>\n",
       "      <td>-46,5333</td>\n",
       "      <td>38</td>\n",
       "      <td>371088</td>\n",
       "    </tr>\n",
       "    <tr>\n",
       "      <th>576</th>\n",
       "      <td>Guarulhos</td>\n",
       "      <td>3518800</td>\n",
       "      <td>23</td>\n",
       "      <td>9</td>\n",
       "      <td>2021-09-23</td>\n",
       "      <td>63368</td>\n",
       "      <td>17</td>\n",
       "      <td>4689</td>\n",
       "      <td>107</td>\n",
       "      <td>4862</td>\n",
       "      <td>...</td>\n",
       "      <td>10</td>\n",
       "      <td>1351275</td>\n",
       "      <td>162662</td>\n",
       "      <td>31868</td>\n",
       "      <td>NaN</td>\n",
       "      <td>1.0</td>\n",
       "      <td>-23,4538</td>\n",
       "      <td>-46,5333</td>\n",
       "      <td>38</td>\n",
       "      <td>371733</td>\n",
       "    </tr>\n",
       "    <tr>\n",
       "      <th>577</th>\n",
       "      <td>Guarulhos</td>\n",
       "      <td>3518800</td>\n",
       "      <td>24</td>\n",
       "      <td>9</td>\n",
       "      <td>2021-09-24</td>\n",
       "      <td>63387</td>\n",
       "      <td>19</td>\n",
       "      <td>4691</td>\n",
       "      <td>61</td>\n",
       "      <td>4863</td>\n",
       "      <td>...</td>\n",
       "      <td>10</td>\n",
       "      <td>1351275</td>\n",
       "      <td>162662</td>\n",
       "      <td>31868</td>\n",
       "      <td>NaN</td>\n",
       "      <td>1.0</td>\n",
       "      <td>-23,4538</td>\n",
       "      <td>-46,5333</td>\n",
       "      <td>38</td>\n",
       "      <td>372378</td>\n",
       "    </tr>\n",
       "    <tr>\n",
       "      <th>578</th>\n",
       "      <td>Guarulhos</td>\n",
       "      <td>3518800</td>\n",
       "      <td>25</td>\n",
       "      <td>9</td>\n",
       "      <td>2021-09-25</td>\n",
       "      <td>63398</td>\n",
       "      <td>11</td>\n",
       "      <td>4692</td>\n",
       "      <td>14</td>\n",
       "      <td>4866</td>\n",
       "      <td>...</td>\n",
       "      <td>10</td>\n",
       "      <td>1351275</td>\n",
       "      <td>162662</td>\n",
       "      <td>31868</td>\n",
       "      <td>NaN</td>\n",
       "      <td>1.0</td>\n",
       "      <td>-23,4538</td>\n",
       "      <td>-46,5333</td>\n",
       "      <td>38</td>\n",
       "      <td>373023</td>\n",
       "    </tr>\n",
       "  </tbody>\n",
       "</table>\n",
       "<p>579 rows × 27 columns</p>\n",
       "</div>"
      ],
      "text/plain": [
       "     municipio  codigo_ibge  dia  mes   datahora  casos  casos_novos  \\\n",
       "0    Guarulhos      3518800   25    2 2020-02-25      0            0   \n",
       "1    Guarulhos      3518800   26    2 2020-02-26      0            0   \n",
       "2    Guarulhos      3518800   27    2 2020-02-27      0            0   \n",
       "3    Guarulhos      3518800   28    2 2020-02-28      0            0   \n",
       "4    Guarulhos      3518800   29    2 2020-02-29      0            0   \n",
       "..         ...          ...  ...  ...        ...    ...          ...   \n",
       "574  Guarulhos      3518800   21    9 2021-09-21  63334           28   \n",
       "575  Guarulhos      3518800   22    9 2021-09-22  63351           17   \n",
       "576  Guarulhos      3518800   23    9 2021-09-23  63368           17   \n",
       "577  Guarulhos      3518800   24    9 2021-09-24  63387           19   \n",
       "578  Guarulhos      3518800   25    9 2021-09-25  63398           11   \n",
       "\n",
       "     casos_pc  casos_mm7d  obitos  ...  cod_drs      pop  pop_60   area  \\\n",
       "0           0           0       0  ...       10  1351275  162662  31868   \n",
       "1           0           0       0  ...       10  1351275  162662  31868   \n",
       "2           0           0       0  ...       10  1351275  162662  31868   \n",
       "3           0           0       0  ...       10  1351275  162662  31868   \n",
       "4           0           0       0  ...       10  1351275  162662  31868   \n",
       "..        ...         ...     ...  ...      ...      ...     ...    ...   \n",
       "574      4687         103    4857  ...       10  1351275  162662  31868   \n",
       "575      4688         105    4861  ...       10  1351275  162662  31868   \n",
       "576      4689         107    4862  ...       10  1351275  162662  31868   \n",
       "577      4691          61    4863  ...       10  1351275  162662  31868   \n",
       "578      4692          14    4866  ...       10  1351275  162662  31868   \n",
       "\n",
       "    map_leg  map_leg_s  latitude  longitude  semana_epidem  indice  \n",
       "0       0.0        8.0  -23,4538   -46,5333              9     213  \n",
       "1       0.0        8.0  -23,4538   -46,5333              9     858  \n",
       "2       0.0        8.0  -23,4538   -46,5333              9    1503  \n",
       "3       0.0        8.0  -23,4538   -46,5333              9    2148  \n",
       "4       0.0        8.0  -23,4538   -46,5333              9    2793  \n",
       "..      ...        ...       ...        ...            ...     ...  \n",
       "574     NaN        1.0  -23,4538   -46,5333             38  370443  \n",
       "575     NaN        1.0  -23,4538   -46,5333             38  371088  \n",
       "576     NaN        1.0  -23,4538   -46,5333             38  371733  \n",
       "577     NaN        1.0  -23,4538   -46,5333             38  372378  \n",
       "578     NaN        1.0  -23,4538   -46,5333             38  373023  \n",
       "\n",
       "[579 rows x 27 columns]"
      ]
     },
     "execution_count": 51,
     "metadata": {},
     "output_type": "execute_result"
    }
   ],
   "source": [
    "guarulhos"
   ]
  },
  {
   "cell_type": "code",
   "execution_count": 40,
   "metadata": {},
   "outputs": [
    {
     "data": {
      "text/plain": [
       "(579, 27)"
      ]
     },
     "execution_count": 40,
     "metadata": {},
     "output_type": "execute_result"
    }
   ],
   "source": [
    "# Nota-se que todas as cidades possuem 579 linhas, porquê o df apresenta 579 datas.\n",
    "\n",
    "campinas.shape"
   ]
  },
  {
   "cell_type": "code",
   "execution_count": null,
   "metadata": {},
   "outputs": [],
   "source": [
    "                                                                                                                  "
   ]
  },
  {
   "cell_type": "code",
   "execution_count": 41,
   "metadata": {},
   "outputs": [],
   "source": [
    "import plotly.express as px"
   ]
  },
  {
   "cell_type": "code",
   "execution_count": 61,
   "metadata": {},
   "outputs": [
    {
     "data": {
      "application/vnd.plotly.v1+json": {
       "config": {
        "plotlyServerURL": "https://plot.ly"
       },
       "data": [
        {
         "alignmentgroup": "True",
         "bingroup": "x",
         "hovertemplate": "casos=%{x}<br>count=%{y}<extra></extra>",
         "legendgroup": "",
         "marker": {
          "color": "#636efa",
          "pattern": {
           "shape": ""
          }
         },
         "name": "",
         "offsetgroup": "",
         "orientation": "v",
         "showlegend": false,
         "type": "histogram",
         "x": [
          0,
          0,
          0,
          0,
          0,
          0,
          0,
          0,
          0,
          0,
          0,
          0,
          0,
          0,
          0,
          0,
          0,
          0,
          0,
          0,
          0,
          1,
          1,
          1,
          1,
          1,
          1,
          1,
          1,
          5,
          9,
          13,
          13,
          13,
          14,
          21,
          25,
          35,
          52,
          62,
          62,
          63,
          74,
          119,
          154,
          178,
          191,
          198,
          200,
          214,
          253,
          269,
          295,
          305,
          308,
          316,
          330,
          331,
          356,
          399,
          455,
          495,
          498,
          562,
          666,
          737,
          804,
          816,
          833,
          834,
          849,
          946,
          989,
          1015,
          1063,
          1075,
          1091,
          1125,
          1189,
          1295,
          1426,
          1507,
          1528,
          1544,
          1691,
          1809,
          1889,
          1945,
          2051,
          2072,
          2091,
          2149,
          2236,
          2408,
          2550,
          2723,
          2757,
          2769,
          2989,
          3118,
          3238,
          3354,
          3471,
          3536,
          3560,
          3686,
          3846,
          3998,
          4067,
          4131,
          4202,
          4244,
          4401,
          4464,
          4536,
          4876,
          4963,
          5026,
          5055,
          5174,
          5448,
          5665,
          5932,
          6214,
          6501,
          6601,
          6843,
          7118,
          7363,
          7545,
          7616,
          7700,
          7747,
          8082,
          8319,
          8480,
          8766,
          9010,
          9076,
          9110,
          9411,
          9563,
          9762,
          9887,
          10044,
          10131,
          10151,
          10328,
          10531,
          10728,
          10902,
          11188,
          11240,
          11287,
          11513,
          11817,
          12023,
          12251,
          12391,
          12427,
          12457,
          12689,
          12782,
          13005,
          13123,
          13314,
          13359,
          13396,
          13607,
          13828,
          14168,
          14446,
          14635,
          14648,
          14666,
          14878,
          15133,
          15351,
          15466,
          15802,
          15988,
          16012,
          16229,
          16452,
          16590,
          16731,
          16830,
          16843,
          16858,
          17055,
          17202,
          17468,
          17625,
          17772,
          17789,
          17826,
          17850,
          18015,
          18139,
          18241,
          18369,
          18398,
          18455,
          18591,
          18774,
          18867,
          19041,
          19139,
          19162,
          19188,
          19316,
          19415,
          19523,
          19599,
          19687,
          19697,
          19718,
          19786,
          19899,
          19970,
          20019,
          20142,
          20182,
          20187,
          20268,
          20348,
          20409,
          20540,
          20701,
          20805,
          20807,
          20821,
          20907,
          20969,
          21040,
          21129,
          21205,
          21214,
          21322,
          21422,
          21543,
          21853,
          22003,
          22155,
          22188,
          22307,
          22470,
          22631,
          22691,
          22712,
          22718,
          22722,
          22731,
          22790,
          22848,
          22848,
          22848,
          22848,
          22848,
          23258,
          23326,
          23486,
          23660,
          23790,
          23801,
          23820,
          24092,
          24312,
          24551,
          24745,
          24787,
          24831,
          24843,
          24999,
          25287,
          25352,
          25415,
          25494,
          25555,
          25592,
          25721,
          25776,
          25852,
          25903,
          25938,
          25963,
          25976,
          26029,
          26119,
          26188,
          26243,
          26398,
          26406,
          26443,
          26503,
          26503,
          26693,
          26781,
          26877,
          26877,
          26916,
          27039,
          27165,
          27277,
          27312,
          27321,
          27346,
          27367,
          27548,
          27765,
          27979,
          28046,
          28073,
          28121,
          28146,
          28318,
          28512,
          28713,
          28881,
          29078,
          29163,
          29216,
          29490,
          29722,
          29861,
          30120,
          30312,
          30388,
          30417,
          30585,
          30807,
          30980,
          31157,
          31348,
          31411,
          31438,
          31636,
          31904,
          32104,
          32268,
          32352,
          32377,
          32385,
          32476,
          32582,
          32680,
          32807,
          32936,
          32951,
          32987,
          33076,
          33229,
          33350,
          33460,
          33544,
          33578,
          33598,
          33714,
          33865,
          33997,
          34109,
          34218,
          34238,
          34238,
          34239,
          34323,
          34438,
          34575,
          34729,
          34777,
          34807,
          34923,
          35076,
          35214,
          35387,
          35539,
          35626,
          35702,
          35895,
          36107,
          36408,
          36625,
          36794,
          36898,
          36949,
          37201,
          37356,
          37573,
          37847,
          38097,
          38318,
          38374,
          38683,
          38937,
          39133,
          39436,
          39671,
          39913,
          39967,
          40326,
          40622,
          41087,
          41433,
          41497,
          41553,
          41710,
          42091,
          42425,
          42813,
          43134,
          43410,
          43588,
          43818,
          44087,
          44553,
          45079,
          45676,
          46374,
          46527,
          46608,
          46919,
          47266,
          47474,
          47973,
          48241,
          48338,
          48410,
          48689,
          48851,
          49026,
          49236,
          49377,
          49598,
          49623,
          49782,
          49924,
          49999,
          50205,
          50367,
          50590,
          50618,
          50818,
          51002,
          51124,
          51387,
          51539,
          51578,
          51688,
          51805,
          52032,
          52256,
          52405,
          52529,
          52674,
          52712,
          52864,
          53145,
          53309,
          53351,
          53398,
          53444,
          53599,
          53757,
          53969,
          54164,
          54197,
          54391,
          54490,
          54519,
          54628,
          54766,
          54975,
          55136,
          55317,
          55422,
          55543,
          55762,
          55955,
          56069,
          56419,
          56571,
          56649,
          56707,
          56879,
          57036,
          57158,
          57333,
          57471,
          57564,
          57680,
          57803,
          57884,
          57955,
          58050,
          58128,
          58224,
          58251,
          58393,
          58554,
          58648,
          58778,
          58841,
          58866,
          58901,
          58966,
          59057,
          59152,
          59294,
          59419,
          59424,
          59458,
          59529,
          59644,
          59727,
          59837,
          59904,
          59945,
          60079,
          60181,
          60269,
          60379,
          60518,
          60613,
          60645,
          60680,
          60735,
          60807,
          60918,
          60996,
          61039,
          61056,
          61072,
          61139,
          61219,
          61262,
          61357,
          61419,
          61444,
          61453,
          61549,
          61658,
          61778,
          61846,
          61889,
          61910,
          61923,
          61978,
          62042,
          62112,
          62162,
          62208,
          62229,
          62242,
          62302,
          62388,
          62435,
          62543,
          62611,
          62612,
          62612,
          62612,
          62613,
          62614,
          62614,
          62614,
          62615,
          62616,
          62616,
          62616,
          62617,
          62958,
          63299,
          63306,
          63306,
          63334,
          63351,
          63368,
          63387,
          63398
         ],
         "xaxis": "x",
         "yaxis": "y"
        }
       ],
       "layout": {
        "barmode": "relative",
        "legend": {
         "tracegroupgap": 0
        },
        "template": {
         "data": {
          "bar": [
           {
            "error_x": {
             "color": "#2a3f5f"
            },
            "error_y": {
             "color": "#2a3f5f"
            },
            "marker": {
             "line": {
              "color": "#E5ECF6",
              "width": 0.5
             },
             "pattern": {
              "fillmode": "overlay",
              "size": 10,
              "solidity": 0.2
             }
            },
            "type": "bar"
           }
          ],
          "barpolar": [
           {
            "marker": {
             "line": {
              "color": "#E5ECF6",
              "width": 0.5
             },
             "pattern": {
              "fillmode": "overlay",
              "size": 10,
              "solidity": 0.2
             }
            },
            "type": "barpolar"
           }
          ],
          "carpet": [
           {
            "aaxis": {
             "endlinecolor": "#2a3f5f",
             "gridcolor": "white",
             "linecolor": "white",
             "minorgridcolor": "white",
             "startlinecolor": "#2a3f5f"
            },
            "baxis": {
             "endlinecolor": "#2a3f5f",
             "gridcolor": "white",
             "linecolor": "white",
             "minorgridcolor": "white",
             "startlinecolor": "#2a3f5f"
            },
            "type": "carpet"
           }
          ],
          "choropleth": [
           {
            "colorbar": {
             "outlinewidth": 0,
             "ticks": ""
            },
            "type": "choropleth"
           }
          ],
          "contour": [
           {
            "colorbar": {
             "outlinewidth": 0,
             "ticks": ""
            },
            "colorscale": [
             [
              0,
              "#0d0887"
             ],
             [
              0.1111111111111111,
              "#46039f"
             ],
             [
              0.2222222222222222,
              "#7201a8"
             ],
             [
              0.3333333333333333,
              "#9c179e"
             ],
             [
              0.4444444444444444,
              "#bd3786"
             ],
             [
              0.5555555555555556,
              "#d8576b"
             ],
             [
              0.6666666666666666,
              "#ed7953"
             ],
             [
              0.7777777777777778,
              "#fb9f3a"
             ],
             [
              0.8888888888888888,
              "#fdca26"
             ],
             [
              1,
              "#f0f921"
             ]
            ],
            "type": "contour"
           }
          ],
          "contourcarpet": [
           {
            "colorbar": {
             "outlinewidth": 0,
             "ticks": ""
            },
            "type": "contourcarpet"
           }
          ],
          "heatmap": [
           {
            "colorbar": {
             "outlinewidth": 0,
             "ticks": ""
            },
            "colorscale": [
             [
              0,
              "#0d0887"
             ],
             [
              0.1111111111111111,
              "#46039f"
             ],
             [
              0.2222222222222222,
              "#7201a8"
             ],
             [
              0.3333333333333333,
              "#9c179e"
             ],
             [
              0.4444444444444444,
              "#bd3786"
             ],
             [
              0.5555555555555556,
              "#d8576b"
             ],
             [
              0.6666666666666666,
              "#ed7953"
             ],
             [
              0.7777777777777778,
              "#fb9f3a"
             ],
             [
              0.8888888888888888,
              "#fdca26"
             ],
             [
              1,
              "#f0f921"
             ]
            ],
            "type": "heatmap"
           }
          ],
          "heatmapgl": [
           {
            "colorbar": {
             "outlinewidth": 0,
             "ticks": ""
            },
            "colorscale": [
             [
              0,
              "#0d0887"
             ],
             [
              0.1111111111111111,
              "#46039f"
             ],
             [
              0.2222222222222222,
              "#7201a8"
             ],
             [
              0.3333333333333333,
              "#9c179e"
             ],
             [
              0.4444444444444444,
              "#bd3786"
             ],
             [
              0.5555555555555556,
              "#d8576b"
             ],
             [
              0.6666666666666666,
              "#ed7953"
             ],
             [
              0.7777777777777778,
              "#fb9f3a"
             ],
             [
              0.8888888888888888,
              "#fdca26"
             ],
             [
              1,
              "#f0f921"
             ]
            ],
            "type": "heatmapgl"
           }
          ],
          "histogram": [
           {
            "marker": {
             "pattern": {
              "fillmode": "overlay",
              "size": 10,
              "solidity": 0.2
             }
            },
            "type": "histogram"
           }
          ],
          "histogram2d": [
           {
            "colorbar": {
             "outlinewidth": 0,
             "ticks": ""
            },
            "colorscale": [
             [
              0,
              "#0d0887"
             ],
             [
              0.1111111111111111,
              "#46039f"
             ],
             [
              0.2222222222222222,
              "#7201a8"
             ],
             [
              0.3333333333333333,
              "#9c179e"
             ],
             [
              0.4444444444444444,
              "#bd3786"
             ],
             [
              0.5555555555555556,
              "#d8576b"
             ],
             [
              0.6666666666666666,
              "#ed7953"
             ],
             [
              0.7777777777777778,
              "#fb9f3a"
             ],
             [
              0.8888888888888888,
              "#fdca26"
             ],
             [
              1,
              "#f0f921"
             ]
            ],
            "type": "histogram2d"
           }
          ],
          "histogram2dcontour": [
           {
            "colorbar": {
             "outlinewidth": 0,
             "ticks": ""
            },
            "colorscale": [
             [
              0,
              "#0d0887"
             ],
             [
              0.1111111111111111,
              "#46039f"
             ],
             [
              0.2222222222222222,
              "#7201a8"
             ],
             [
              0.3333333333333333,
              "#9c179e"
             ],
             [
              0.4444444444444444,
              "#bd3786"
             ],
             [
              0.5555555555555556,
              "#d8576b"
             ],
             [
              0.6666666666666666,
              "#ed7953"
             ],
             [
              0.7777777777777778,
              "#fb9f3a"
             ],
             [
              0.8888888888888888,
              "#fdca26"
             ],
             [
              1,
              "#f0f921"
             ]
            ],
            "type": "histogram2dcontour"
           }
          ],
          "mesh3d": [
           {
            "colorbar": {
             "outlinewidth": 0,
             "ticks": ""
            },
            "type": "mesh3d"
           }
          ],
          "parcoords": [
           {
            "line": {
             "colorbar": {
              "outlinewidth": 0,
              "ticks": ""
             }
            },
            "type": "parcoords"
           }
          ],
          "pie": [
           {
            "automargin": true,
            "type": "pie"
           }
          ],
          "scatter": [
           {
            "fillpattern": {
             "fillmode": "overlay",
             "size": 10,
             "solidity": 0.2
            },
            "type": "scatter"
           }
          ],
          "scatter3d": [
           {
            "line": {
             "colorbar": {
              "outlinewidth": 0,
              "ticks": ""
             }
            },
            "marker": {
             "colorbar": {
              "outlinewidth": 0,
              "ticks": ""
             }
            },
            "type": "scatter3d"
           }
          ],
          "scattercarpet": [
           {
            "marker": {
             "colorbar": {
              "outlinewidth": 0,
              "ticks": ""
             }
            },
            "type": "scattercarpet"
           }
          ],
          "scattergeo": [
           {
            "marker": {
             "colorbar": {
              "outlinewidth": 0,
              "ticks": ""
             }
            },
            "type": "scattergeo"
           }
          ],
          "scattergl": [
           {
            "marker": {
             "colorbar": {
              "outlinewidth": 0,
              "ticks": ""
             }
            },
            "type": "scattergl"
           }
          ],
          "scattermapbox": [
           {
            "marker": {
             "colorbar": {
              "outlinewidth": 0,
              "ticks": ""
             }
            },
            "type": "scattermapbox"
           }
          ],
          "scatterpolar": [
           {
            "marker": {
             "colorbar": {
              "outlinewidth": 0,
              "ticks": ""
             }
            },
            "type": "scatterpolar"
           }
          ],
          "scatterpolargl": [
           {
            "marker": {
             "colorbar": {
              "outlinewidth": 0,
              "ticks": ""
             }
            },
            "type": "scatterpolargl"
           }
          ],
          "scatterternary": [
           {
            "marker": {
             "colorbar": {
              "outlinewidth": 0,
              "ticks": ""
             }
            },
            "type": "scatterternary"
           }
          ],
          "surface": [
           {
            "colorbar": {
             "outlinewidth": 0,
             "ticks": ""
            },
            "colorscale": [
             [
              0,
              "#0d0887"
             ],
             [
              0.1111111111111111,
              "#46039f"
             ],
             [
              0.2222222222222222,
              "#7201a8"
             ],
             [
              0.3333333333333333,
              "#9c179e"
             ],
             [
              0.4444444444444444,
              "#bd3786"
             ],
             [
              0.5555555555555556,
              "#d8576b"
             ],
             [
              0.6666666666666666,
              "#ed7953"
             ],
             [
              0.7777777777777778,
              "#fb9f3a"
             ],
             [
              0.8888888888888888,
              "#fdca26"
             ],
             [
              1,
              "#f0f921"
             ]
            ],
            "type": "surface"
           }
          ],
          "table": [
           {
            "cells": {
             "fill": {
              "color": "#EBF0F8"
             },
             "line": {
              "color": "white"
             }
            },
            "header": {
             "fill": {
              "color": "#C8D4E3"
             },
             "line": {
              "color": "white"
             }
            },
            "type": "table"
           }
          ]
         },
         "layout": {
          "annotationdefaults": {
           "arrowcolor": "#2a3f5f",
           "arrowhead": 0,
           "arrowwidth": 1
          },
          "autotypenumbers": "strict",
          "coloraxis": {
           "colorbar": {
            "outlinewidth": 0,
            "ticks": ""
           }
          },
          "colorscale": {
           "diverging": [
            [
             0,
             "#8e0152"
            ],
            [
             0.1,
             "#c51b7d"
            ],
            [
             0.2,
             "#de77ae"
            ],
            [
             0.3,
             "#f1b6da"
            ],
            [
             0.4,
             "#fde0ef"
            ],
            [
             0.5,
             "#f7f7f7"
            ],
            [
             0.6,
             "#e6f5d0"
            ],
            [
             0.7,
             "#b8e186"
            ],
            [
             0.8,
             "#7fbc41"
            ],
            [
             0.9,
             "#4d9221"
            ],
            [
             1,
             "#276419"
            ]
           ],
           "sequential": [
            [
             0,
             "#0d0887"
            ],
            [
             0.1111111111111111,
             "#46039f"
            ],
            [
             0.2222222222222222,
             "#7201a8"
            ],
            [
             0.3333333333333333,
             "#9c179e"
            ],
            [
             0.4444444444444444,
             "#bd3786"
            ],
            [
             0.5555555555555556,
             "#d8576b"
            ],
            [
             0.6666666666666666,
             "#ed7953"
            ],
            [
             0.7777777777777778,
             "#fb9f3a"
            ],
            [
             0.8888888888888888,
             "#fdca26"
            ],
            [
             1,
             "#f0f921"
            ]
           ],
           "sequentialminus": [
            [
             0,
             "#0d0887"
            ],
            [
             0.1111111111111111,
             "#46039f"
            ],
            [
             0.2222222222222222,
             "#7201a8"
            ],
            [
             0.3333333333333333,
             "#9c179e"
            ],
            [
             0.4444444444444444,
             "#bd3786"
            ],
            [
             0.5555555555555556,
             "#d8576b"
            ],
            [
             0.6666666666666666,
             "#ed7953"
            ],
            [
             0.7777777777777778,
             "#fb9f3a"
            ],
            [
             0.8888888888888888,
             "#fdca26"
            ],
            [
             1,
             "#f0f921"
            ]
           ]
          },
          "colorway": [
           "#636efa",
           "#EF553B",
           "#00cc96",
           "#ab63fa",
           "#FFA15A",
           "#19d3f3",
           "#FF6692",
           "#B6E880",
           "#FF97FF",
           "#FECB52"
          ],
          "font": {
           "color": "#2a3f5f"
          },
          "geo": {
           "bgcolor": "white",
           "lakecolor": "white",
           "landcolor": "#E5ECF6",
           "showlakes": true,
           "showland": true,
           "subunitcolor": "white"
          },
          "hoverlabel": {
           "align": "left"
          },
          "hovermode": "closest",
          "mapbox": {
           "style": "light"
          },
          "paper_bgcolor": "white",
          "plot_bgcolor": "#E5ECF6",
          "polar": {
           "angularaxis": {
            "gridcolor": "white",
            "linecolor": "white",
            "ticks": ""
           },
           "bgcolor": "#E5ECF6",
           "radialaxis": {
            "gridcolor": "white",
            "linecolor": "white",
            "ticks": ""
           }
          },
          "scene": {
           "xaxis": {
            "backgroundcolor": "#E5ECF6",
            "gridcolor": "white",
            "gridwidth": 2,
            "linecolor": "white",
            "showbackground": true,
            "ticks": "",
            "zerolinecolor": "white"
           },
           "yaxis": {
            "backgroundcolor": "#E5ECF6",
            "gridcolor": "white",
            "gridwidth": 2,
            "linecolor": "white",
            "showbackground": true,
            "ticks": "",
            "zerolinecolor": "white"
           },
           "zaxis": {
            "backgroundcolor": "#E5ECF6",
            "gridcolor": "white",
            "gridwidth": 2,
            "linecolor": "white",
            "showbackground": true,
            "ticks": "",
            "zerolinecolor": "white"
           }
          },
          "shapedefaults": {
           "line": {
            "color": "#2a3f5f"
           }
          },
          "ternary": {
           "aaxis": {
            "gridcolor": "white",
            "linecolor": "white",
            "ticks": ""
           },
           "baxis": {
            "gridcolor": "white",
            "linecolor": "white",
            "ticks": ""
           },
           "bgcolor": "#E5ECF6",
           "caxis": {
            "gridcolor": "white",
            "linecolor": "white",
            "ticks": ""
           }
          },
          "title": {
           "x": 0.05
          },
          "xaxis": {
           "automargin": true,
           "gridcolor": "white",
           "linecolor": "white",
           "ticks": "",
           "title": {
            "standoff": 15
           },
           "zerolinecolor": "white",
           "zerolinewidth": 2
          },
          "yaxis": {
           "automargin": true,
           "gridcolor": "white",
           "linecolor": "white",
           "ticks": "",
           "title": {
            "standoff": 15
           },
           "zerolinecolor": "white",
           "zerolinewidth": 2
          }
         }
        },
        "title": {
         "text": "Contagem casos Covid em Guarulhos"
        },
        "xaxis": {
         "anchor": "y",
         "domain": [
          0,
          1
         ],
         "title": {
          "text": "casos"
         }
        },
        "yaxis": {
         "anchor": "x",
         "domain": [
          0,
          1
         ],
         "title": {
          "text": "count"
         }
        }
       }
      }
     },
     "metadata": {},
     "output_type": "display_data"
    }
   ],
   "source": [
    "px.histogram(guarulhos, x='casos',\n",
    "             title='Contagem casos Covid em Guarulhos')"
   ]
  },
  {
   "cell_type": "code",
   "execution_count": 44,
   "metadata": {},
   "outputs": [],
   "source": [
    "import seaborn as sns\n",
    "import matplotlib.pyplot as plt"
   ]
  },
  {
   "cell_type": "code",
   "execution_count": 59,
   "metadata": {},
   "outputs": [
    {
     "data": {
      "image/png": "[encoded data removed]",
      "text/plain": [
       "<Figure size 800x600 with 1 Axes>"
      ]
     },
     "metadata": {},
     "output_type": "display_data"
    }
   ],
   "source": [
    "fig, ax = plt.subplots(figsize=(8,6))\n",
    "sns.histplot(campinas, x='casos',bins=30,color='orange',kde=True);\n",
    "ax.set_title('Contagem casos de Covid em Campinas');"
   ]
  },
  {
   "cell_type": "code",
   "execution_count": 64,
   "metadata": {},
   "outputs": [
    {
     "data": {
      "text/html": [
       "<div>\n",
       "<style scoped>\n",
       "    .dataframe tbody tr th:only-of-type {\n",
       "        vertical-align: middle;\n",
       "    }\n",
       "\n",
       "    .dataframe tbody tr th {\n",
       "        vertical-align: top;\n",
       "    }\n",
       "\n",
       "    .dataframe thead th {\n",
       "        text-align: right;\n",
       "    }\n",
       "</style>\n",
       "<table border=\"1\" class=\"dataframe\">\n",
       "  <thead>\n",
       "    <tr style=\"text-align: right;\">\n",
       "      <th></th>\n",
       "      <th>casos</th>\n",
       "      <th>casos_novos</th>\n",
       "      <th>obitos</th>\n",
       "      <th>obitos_novos</th>\n",
       "    </tr>\n",
       "  </thead>\n",
       "  <tbody>\n",
       "    <tr>\n",
       "      <th>0</th>\n",
       "      <td>0</td>\n",
       "      <td>0</td>\n",
       "      <td>0</td>\n",
       "      <td>0</td>\n",
       "    </tr>\n",
       "    <tr>\n",
       "      <th>1</th>\n",
       "      <td>0</td>\n",
       "      <td>0</td>\n",
       "      <td>0</td>\n",
       "      <td>0</td>\n",
       "    </tr>\n",
       "    <tr>\n",
       "      <th>2</th>\n",
       "      <td>0</td>\n",
       "      <td>0</td>\n",
       "      <td>0</td>\n",
       "      <td>0</td>\n",
       "    </tr>\n",
       "    <tr>\n",
       "      <th>3</th>\n",
       "      <td>0</td>\n",
       "      <td>0</td>\n",
       "      <td>0</td>\n",
       "      <td>0</td>\n",
       "    </tr>\n",
       "    <tr>\n",
       "      <th>4</th>\n",
       "      <td>0</td>\n",
       "      <td>0</td>\n",
       "      <td>0</td>\n",
       "      <td>0</td>\n",
       "    </tr>\n",
       "    <tr>\n",
       "      <th>...</th>\n",
       "      <td>...</td>\n",
       "      <td>...</td>\n",
       "      <td>...</td>\n",
       "      <td>...</td>\n",
       "    </tr>\n",
       "    <tr>\n",
       "      <th>574</th>\n",
       "      <td>63334</td>\n",
       "      <td>28</td>\n",
       "      <td>4857</td>\n",
       "      <td>3</td>\n",
       "    </tr>\n",
       "    <tr>\n",
       "      <th>575</th>\n",
       "      <td>63351</td>\n",
       "      <td>17</td>\n",
       "      <td>4861</td>\n",
       "      <td>4</td>\n",
       "    </tr>\n",
       "    <tr>\n",
       "      <th>576</th>\n",
       "      <td>63368</td>\n",
       "      <td>17</td>\n",
       "      <td>4862</td>\n",
       "      <td>1</td>\n",
       "    </tr>\n",
       "    <tr>\n",
       "      <th>577</th>\n",
       "      <td>63387</td>\n",
       "      <td>19</td>\n",
       "      <td>4863</td>\n",
       "      <td>1</td>\n",
       "    </tr>\n",
       "    <tr>\n",
       "      <th>578</th>\n",
       "      <td>63398</td>\n",
       "      <td>11</td>\n",
       "      <td>4866</td>\n",
       "      <td>3</td>\n",
       "    </tr>\n",
       "  </tbody>\n",
       "</table>\n",
       "<p>579 rows × 4 columns</p>\n",
       "</div>"
      ],
      "text/plain": [
       "     casos  casos_novos  obitos  obitos_novos\n",
       "0        0            0       0             0\n",
       "1        0            0       0             0\n",
       "2        0            0       0             0\n",
       "3        0            0       0             0\n",
       "4        0            0       0             0\n",
       "..     ...          ...     ...           ...\n",
       "574  63334           28    4857             3\n",
       "575  63351           17    4861             4\n",
       "576  63368           17    4862             1\n",
       "577  63387           19    4863             1\n",
       "578  63398           11    4866             3\n",
       "\n",
       "[579 rows x 4 columns]"
      ]
     },
     "execution_count": 64,
     "metadata": {},
     "output_type": "execute_result"
    }
   ],
   "source": [
    "guarulos_sel = guarulhos[['casos', 'casos_novos','obitos','obitos_novos']]\n",
    "guarulos_sel"
   ]
  },
  {
   "cell_type": "code",
   "execution_count": 73,
   "metadata": {},
   "outputs": [
    {
     "data": {
      "text/plain": [
       "<Axes: >"
      ]
     },
     "execution_count": 73,
     "metadata": {},
     "output_type": "execute_result"
    },
    {
     "data": {
      "image/png": "[encoded data removed]",
      "text/plain": [
       "<Figure size 640x480 with 1 Axes>"
      ]
     },
     "metadata": {},
     "output_type": "display_data"
    }
   ],
   "source": [
    "sns.boxplot(guarulos_sel)"
   ]
  },
  {
   "cell_type": "code",
   "execution_count": 78,
   "metadata": {},
   "outputs": [
    {
     "data": {
      "application/vnd.plotly.v1+json": {
       "config": {
        "plotlyServerURL": "https://plot.ly"
       },
       "data": [
        {
         "alignmentgroup": "True",
         "hovertemplate": "casos_novos=%{y}<extra></extra>",
         "legendgroup": "",
         "marker": {
          "color": "#636efa"
         },
         "name": "",
         "notched": false,
         "offsetgroup": "",
         "orientation": "v",
         "showlegend": false,
         "type": "box",
         "x0": " ",
         "xaxis": "x",
         "y": [
          0,
          0,
          0,
          0,
          0,
          0,
          0,
          0,
          0,
          0,
          0,
          0,
          0,
          0,
          0,
          0,
          0,
          0,
          0,
          0,
          0,
          1,
          0,
          0,
          0,
          0,
          0,
          0,
          0,
          4,
          4,
          4,
          0,
          0,
          1,
          7,
          4,
          10,
          17,
          10,
          0,
          1,
          11,
          45,
          35,
          24,
          13,
          7,
          2,
          14,
          39,
          16,
          26,
          10,
          3,
          8,
          14,
          1,
          25,
          43,
          56,
          40,
          3,
          64,
          104,
          71,
          67,
          12,
          17,
          1,
          15,
          97,
          43,
          26,
          48,
          12,
          16,
          34,
          64,
          106,
          131,
          81,
          21,
          16,
          147,
          118,
          80,
          56,
          106,
          21,
          19,
          58,
          87,
          172,
          142,
          173,
          34,
          12,
          220,
          129,
          120,
          116,
          117,
          65,
          24,
          126,
          160,
          152,
          69,
          64,
          71,
          42,
          157,
          63,
          72,
          340,
          87,
          63,
          29,
          119,
          274,
          217,
          267,
          282,
          287,
          100,
          242,
          275,
          245,
          182,
          71,
          84,
          47,
          335,
          237,
          161,
          286,
          244,
          66,
          34,
          301,
          152,
          199,
          125,
          157,
          87,
          20,
          177,
          203,
          197,
          174,
          286,
          52,
          47,
          226,
          304,
          206,
          228,
          140,
          36,
          30,
          232,
          93,
          223,
          118,
          191,
          45,
          37,
          211,
          221,
          340,
          278,
          189,
          13,
          18,
          212,
          255,
          218,
          115,
          336,
          186,
          24,
          217,
          223,
          138,
          141,
          99,
          13,
          15,
          197,
          147,
          266,
          157,
          147,
          17,
          37,
          24,
          165,
          124,
          102,
          128,
          29,
          57,
          136,
          183,
          93,
          174,
          98,
          23,
          26,
          128,
          99,
          108,
          76,
          88,
          10,
          21,
          68,
          113,
          71,
          49,
          123,
          40,
          5,
          81,
          80,
          61,
          131,
          161,
          104,
          2,
          14,
          86,
          62,
          71,
          89,
          76,
          9,
          108,
          100,
          121,
          310,
          150,
          152,
          33,
          119,
          163,
          161,
          60,
          21,
          6,
          4,
          9,
          59,
          58,
          0,
          0,
          0,
          0,
          410,
          68,
          160,
          174,
          130,
          11,
          19,
          272,
          220,
          239,
          194,
          42,
          44,
          12,
          156,
          288,
          65,
          63,
          79,
          61,
          37,
          129,
          55,
          76,
          51,
          35,
          25,
          13,
          53,
          90,
          69,
          55,
          155,
          8,
          37,
          60,
          0,
          190,
          88,
          96,
          0,
          39,
          123,
          126,
          112,
          35,
          9,
          25,
          21,
          181,
          217,
          214,
          67,
          27,
          48,
          25,
          172,
          194,
          201,
          168,
          197,
          85,
          53,
          274,
          232,
          139,
          259,
          192,
          76,
          29,
          168,
          222,
          173,
          177,
          191,
          63,
          27,
          198,
          268,
          200,
          164,
          84,
          25,
          8,
          91,
          106,
          98,
          127,
          129,
          15,
          36,
          89,
          153,
          121,
          110,
          84,
          34,
          20,
          116,
          151,
          132,
          112,
          109,
          20,
          0,
          1,
          84,
          115,
          137,
          154,
          48,
          30,
          116,
          153,
          138,
          173,
          152,
          87,
          76,
          193,
          212,
          301,
          217,
          169,
          104,
          51,
          252,
          155,
          217,
          274,
          250,
          221,
          56,
          309,
          254,
          196,
          303,
          235,
          242,
          54,
          359,
          296,
          465,
          346,
          64,
          56,
          157,
          381,
          334,
          388,
          321,
          276,
          178,
          230,
          269,
          466,
          526,
          597,
          698,
          153,
          81,
          311,
          347,
          208,
          499,
          268,
          97,
          72,
          279,
          162,
          175,
          210,
          141,
          221,
          25,
          159,
          142,
          75,
          206,
          162,
          223,
          28,
          200,
          184,
          122,
          263,
          152,
          39,
          110,
          117,
          227,
          224,
          149,
          124,
          145,
          38,
          152,
          281,
          164,
          42,
          47,
          46,
          155,
          158,
          212,
          195,
          33,
          194,
          99,
          29,
          109,
          138,
          209,
          161,
          181,
          105,
          121,
          219,
          193,
          114,
          350,
          152,
          78,
          58,
          172,
          157,
          122,
          175,
          138,
          93,
          116,
          123,
          81,
          71,
          95,
          78,
          96,
          27,
          142,
          161,
          94,
          130,
          63,
          25,
          35,
          65,
          91,
          95,
          142,
          125,
          5,
          34,
          71,
          115,
          83,
          110,
          67,
          41,
          134,
          102,
          88,
          110,
          139,
          95,
          32,
          35,
          55,
          72,
          111,
          78,
          43,
          17,
          16,
          67,
          80,
          43,
          95,
          62,
          25,
          9,
          96,
          109,
          120,
          68,
          43,
          21,
          13,
          55,
          64,
          70,
          50,
          46,
          21,
          13,
          60,
          86,
          47,
          108,
          68,
          1,
          0,
          0,
          1,
          1,
          0,
          0,
          1,
          1,
          0,
          0,
          1,
          341,
          341,
          7,
          0,
          28,
          17,
          17,
          19,
          11
         ],
         "y0": " ",
         "yaxis": "y"
        }
       ],
       "layout": {
        "boxmode": "group",
        "legend": {
         "tracegroupgap": 0
        },
        "margin": {
         "t": 60
        },
        "template": {
         "data": {
          "bar": [
           {
            "error_x": {
             "color": "#2a3f5f"
            },
            "error_y": {
             "color": "#2a3f5f"
            },
            "marker": {
             "line": {
              "color": "#E5ECF6",
              "width": 0.5
             },
             "pattern": {
              "fillmode": "overlay",
              "size": 10,
              "solidity": 0.2
             }
            },
            "type": "bar"
           }
          ],
          "barpolar": [
           {
            "marker": {
             "line": {
              "color": "#E5ECF6",
              "width": 0.5
             },
             "pattern": {
              "fillmode": "overlay",
              "size": 10,
              "solidity": 0.2
             }
            },
            "type": "barpolar"
           }
          ],
          "carpet": [
           {
            "aaxis": {
             "endlinecolor": "#2a3f5f",
             "gridcolor": "white",
             "linecolor": "white",
             "minorgridcolor": "white",
             "startlinecolor": "#2a3f5f"
            },
            "baxis": {
             "endlinecolor": "#2a3f5f",
             "gridcolor": "white",
             "linecolor": "white",
             "minorgridcolor": "white",
             "startlinecolor": "#2a3f5f"
            },
            "type": "carpet"
           }
          ],
          "choropleth": [
           {
            "colorbar": {
             "outlinewidth": 0,
             "ticks": ""
            },
            "type": "choropleth"
           }
          ],
          "contour": [
           {
            "colorbar": {
             "outlinewidth": 0,
             "ticks": ""
            },
            "colorscale": [
             [
              0,
              "#0d0887"
             ],
             [
              0.1111111111111111,
              "#46039f"
             ],
             [
              0.2222222222222222,
              "#7201a8"
             ],
             [
              0.3333333333333333,
              "#9c179e"
             ],
             [
              0.4444444444444444,
              "#bd3786"
             ],
             [
              0.5555555555555556,
              "#d8576b"
             ],
             [
              0.6666666666666666,
              "#ed7953"
             ],
             [
              0.7777777777777778,
              "#fb9f3a"
             ],
             [
              0.8888888888888888,
              "#fdca26"
             ],
             [
              1,
              "#f0f921"
             ]
            ],
            "type": "contour"
           }
          ],
          "contourcarpet": [
           {
            "colorbar": {
             "outlinewidth": 0,
             "ticks": ""
            },
            "type": "contourcarpet"
           }
          ],
          "heatmap": [
           {
            "colorbar": {
             "outlinewidth": 0,
             "ticks": ""
            },
            "colorscale": [
             [
              0,
              "#0d0887"
             ],
             [
              0.1111111111111111,
              "#46039f"
             ],
             [
              0.2222222222222222,
              "#7201a8"
             ],
             [
              0.3333333333333333,
              "#9c179e"
             ],
             [
              0.4444444444444444,
              "#bd3786"
             ],
             [
              0.5555555555555556,
              "#d8576b"
             ],
             [
              0.6666666666666666,
              "#ed7953"
             ],
             [
              0.7777777777777778,
              "#fb9f3a"
             ],
             [
              0.8888888888888888,
              "#fdca26"
             ],
             [
              1,
              "#f0f921"
             ]
            ],
            "type": "heatmap"
           }
          ],
          "heatmapgl": [
           {
            "colorbar": {
             "outlinewidth": 0,
             "ticks": ""
            },
            "colorscale": [
             [
              0,
              "#0d0887"
             ],
             [
              0.1111111111111111,
              "#46039f"
             ],
             [
              0.2222222222222222,
              "#7201a8"
             ],
             [
              0.3333333333333333,
              "#9c179e"
             ],
             [
              0.4444444444444444,
              "#bd3786"
             ],
             [
              0.5555555555555556,
              "#d8576b"
             ],
             [
              0.6666666666666666,
              "#ed7953"
             ],
             [
              0.7777777777777778,
              "#fb9f3a"
             ],
             [
              0.8888888888888888,
              "#fdca26"
             ],
             [
              1,
              "#f0f921"
             ]
            ],
            "type": "heatmapgl"
           }
          ],
          "histogram": [
           {
            "marker": {
             "pattern": {
              "fillmode": "overlay",
              "size": 10,
              "solidity": 0.2
             }
            },
            "type": "histogram"
           }
          ],
          "histogram2d": [
           {
            "colorbar": {
             "outlinewidth": 0,
             "ticks": ""
            },
            "colorscale": [
             [
              0,
              "#0d0887"
             ],
             [
              0.1111111111111111,
              "#46039f"
             ],
             [
              0.2222222222222222,
              "#7201a8"
             ],
             [
              0.3333333333333333,
              "#9c179e"
             ],
             [
              0.4444444444444444,
              "#bd3786"
             ],
             [
              0.5555555555555556,
              "#d8576b"
             ],
             [
              0.6666666666666666,
              "#ed7953"
             ],
             [
              0.7777777777777778,
              "#fb9f3a"
             ],
             [
              0.8888888888888888,
              "#fdca26"
             ],
             [
              1,
              "#f0f921"
             ]
            ],
            "type": "histogram2d"
           }
          ],
          "histogram2dcontour": [
           {
            "colorbar": {
             "outlinewidth": 0,
             "ticks": ""
            },
            "colorscale": [
             [
              0,
              "#0d0887"
             ],
             [
              0.1111111111111111,
              "#46039f"
             ],
             [
              0.2222222222222222,
              "#7201a8"
             ],
             [
              0.3333333333333333,
              "#9c179e"
             ],
             [
              0.4444444444444444,
              "#bd3786"
             ],
             [
              0.5555555555555556,
              "#d8576b"
             ],
             [
              0.6666666666666666,
              "#ed7953"
             ],
             [
              0.7777777777777778,
              "#fb9f3a"
             ],
             [
              0.8888888888888888,
              "#fdca26"
             ],
             [
              1,
              "#f0f921"
             ]
            ],
            "type": "histogram2dcontour"
           }
          ],
          "mesh3d": [
           {
            "colorbar": {
             "outlinewidth": 0,
             "ticks": ""
            },
            "type": "mesh3d"
           }
          ],
          "parcoords": [
           {
            "line": {
             "colorbar": {
              "outlinewidth": 0,
              "ticks": ""
             }
            },
            "type": "parcoords"
           }
          ],
          "pie": [
           {
            "automargin": true,
            "type": "pie"
           }
          ],
          "scatter": [
           {
            "fillpattern": {
             "fillmode": "overlay",
             "size": 10,
             "solidity": 0.2
            },
            "type": "scatter"
           }
          ],
          "scatter3d": [
           {
            "line": {
             "colorbar": {
              "outlinewidth": 0,
              "ticks": ""
             }
            },
            "marker": {
             "colorbar": {
              "outlinewidth": 0,
              "ticks": ""
             }
            },
            "type": "scatter3d"
           }
          ],
          "scattercarpet": [
           {
            "marker": {
             "colorbar": {
              "outlinewidth": 0,
              "ticks": ""
             }
            },
            "type": "scattercarpet"
           }
          ],
          "scattergeo": [
           {
            "marker": {
             "colorbar": {
              "outlinewidth": 0,
              "ticks": ""
             }
            },
            "type": "scattergeo"
           }
          ],
          "scattergl": [
           {
            "marker": {
             "colorbar": {
              "outlinewidth": 0,
              "ticks": ""
             }
            },
            "type": "scattergl"
           }
          ],
          "scattermapbox": [
           {
            "marker": {
             "colorbar": {
              "outlinewidth": 0,
              "ticks": ""
             }
            },
            "type": "scattermapbox"
           }
          ],
          "scatterpolar": [
           {
            "marker": {
             "colorbar": {
              "outlinewidth": 0,
              "ticks": ""
             }
            },
            "type": "scatterpolar"
           }
          ],
          "scatterpolargl": [
           {
            "marker": {
             "colorbar": {
              "outlinewidth": 0,
              "ticks": ""
             }
            },
            "type": "scatterpolargl"
           }
          ],
          "scatterternary": [
           {
            "marker": {
             "colorbar": {
              "outlinewidth": 0,
              "ticks": ""
             }
            },
            "type": "scatterternary"
           }
          ],
          "surface": [
           {
            "colorbar": {
             "outlinewidth": 0,
             "ticks": ""
            },
            "colorscale": [
             [
              0,
              "#0d0887"
             ],
             [
              0.1111111111111111,
              "#46039f"
             ],
             [
              0.2222222222222222,
              "#7201a8"
             ],
             [
              0.3333333333333333,
              "#9c179e"
             ],
             [
              0.4444444444444444,
              "#bd3786"
             ],
             [
              0.5555555555555556,
              "#d8576b"
             ],
             [
              0.6666666666666666,
              "#ed7953"
             ],
             [
              0.7777777777777778,
              "#fb9f3a"
             ],
             [
              0.8888888888888888,
              "#fdca26"
             ],
             [
              1,
              "#f0f921"
             ]
            ],
            "type": "surface"
           }
          ],
          "table": [
           {
            "cells": {
             "fill": {
              "color": "#EBF0F8"
             },
             "line": {
              "color": "white"
             }
            },
            "header": {
             "fill": {
              "color": "#C8D4E3"
             },
             "line": {
              "color": "white"
             }
            },
            "type": "table"
           }
          ]
         },
         "layout": {
          "annotationdefaults": {
           "arrowcolor": "#2a3f5f",
           "arrowhead": 0,
           "arrowwidth": 1
          },
          "autotypenumbers": "strict",
          "coloraxis": {
           "colorbar": {
            "outlinewidth": 0,
            "ticks": ""
           }
          },
          "colorscale": {
           "diverging": [
            [
             0,
             "#8e0152"
            ],
            [
             0.1,
             "#c51b7d"
            ],
            [
             0.2,
             "#de77ae"
            ],
            [
             0.3,
             "#f1b6da"
            ],
            [
             0.4,
             "#fde0ef"
            ],
            [
             0.5,
             "#f7f7f7"
            ],
            [
             0.6,
             "#e6f5d0"
            ],
            [
             0.7,
             "#b8e186"
            ],
            [
             0.8,
             "#7fbc41"
            ],
            [
             0.9,
             "#4d9221"
            ],
            [
             1,
             "#276419"
            ]
           ],
           "sequential": [
            [
             0,
             "#0d0887"
            ],
            [
             0.1111111111111111,
             "#46039f"
            ],
            [
             0.2222222222222222,
             "#7201a8"
            ],
            [
             0.3333333333333333,
             "#9c179e"
            ],
            [
             0.4444444444444444,
             "#bd3786"
            ],
            [
             0.5555555555555556,
             "#d8576b"
            ],
            [
             0.6666666666666666,
             "#ed7953"
            ],
            [
             0.7777777777777778,
             "#fb9f3a"
            ],
            [
             0.8888888888888888,
             "#fdca26"
            ],
            [
             1,
             "#f0f921"
            ]
           ],
           "sequentialminus": [
            [
             0,
             "#0d0887"
            ],
            [
             0.1111111111111111,
             "#46039f"
            ],
            [
             0.2222222222222222,
             "#7201a8"
            ],
            [
             0.3333333333333333,
             "#9c179e"
            ],
            [
             0.4444444444444444,
             "#bd3786"
            ],
            [
             0.5555555555555556,
             "#d8576b"
            ],
            [
             0.6666666666666666,
             "#ed7953"
            ],
            [
             0.7777777777777778,
             "#fb9f3a"
            ],
            [
             0.8888888888888888,
             "#fdca26"
            ],
            [
             1,
             "#f0f921"
            ]
           ]
          },
          "colorway": [
           "#636efa",
           "#EF553B",
           "#00cc96",
           "#ab63fa",
           "#FFA15A",
           "#19d3f3",
           "#FF6692",
           "#B6E880",
           "#FF97FF",
           "#FECB52"
          ],
          "font": {
           "color": "#2a3f5f"
          },
          "geo": {
           "bgcolor": "white",
           "lakecolor": "white",
           "landcolor": "#E5ECF6",
           "showlakes": true,
           "showland": true,
           "subunitcolor": "white"
          },
          "hoverlabel": {
           "align": "left"
          },
          "hovermode": "closest",
          "mapbox": {
           "style": "light"
          },
          "paper_bgcolor": "white",
          "plot_bgcolor": "#E5ECF6",
          "polar": {
           "angularaxis": {
            "gridcolor": "white",
            "linecolor": "white",
            "ticks": ""
           },
           "bgcolor": "#E5ECF6",
           "radialaxis": {
            "gridcolor": "white",
            "linecolor": "white",
            "ticks": ""
           }
          },
          "scene": {
           "xaxis": {
            "backgroundcolor": "#E5ECF6",
            "gridcolor": "white",
            "gridwidth": 2,
            "linecolor": "white",
            "showbackground": true,
            "ticks": "",
            "zerolinecolor": "white"
           },
           "yaxis": {
            "backgroundcolor": "#E5ECF6",
            "gridcolor": "white",
            "gridwidth": 2,
            "linecolor": "white",
            "showbackground": true,
            "ticks": "",
            "zerolinecolor": "white"
           },
           "zaxis": {
            "backgroundcolor": "#E5ECF6",
            "gridcolor": "white",
            "gridwidth": 2,
            "linecolor": "white",
            "showbackground": true,
            "ticks": "",
            "zerolinecolor": "white"
           }
          },
          "shapedefaults": {
           "line": {
            "color": "#2a3f5f"
           }
          },
          "ternary": {
           "aaxis": {
            "gridcolor": "white",
            "linecolor": "white",
            "ticks": ""
           },
           "baxis": {
            "gridcolor": "white",
            "linecolor": "white",
            "ticks": ""
           },
           "bgcolor": "#E5ECF6",
           "caxis": {
            "gridcolor": "white",
            "linecolor": "white",
            "ticks": ""
           }
          },
          "title": {
           "x": 0.05
          },
          "xaxis": {
           "automargin": true,
           "gridcolor": "white",
           "linecolor": "white",
           "ticks": "",
           "title": {
            "standoff": 15
           },
           "zerolinecolor": "white",
           "zerolinewidth": 2
          },
          "yaxis": {
           "automargin": true,
           "gridcolor": "white",
           "linecolor": "white",
           "ticks": "",
           "title": {
            "standoff": 15
           },
           "zerolinecolor": "white",
           "zerolinewidth": 2
          }
         }
        },
        "xaxis": {
         "anchor": "y",
         "domain": [
          0,
          1
         ]
        },
        "yaxis": {
         "anchor": "x",
         "domain": [
          0,
          1
         ],
         "title": {
          "text": "casos_novos"
         }
        }
       }
      }
     },
     "metadata": {},
     "output_type": "display_data"
    }
   ],
   "source": [
    "px.box(guarulos_sel,y='casos_novos')"
   ]
  },
  {
   "cell_type": "code",
   "execution_count": 80,
   "metadata": {},
   "outputs": [
    {
     "data": {
      "text/plain": [
       "municipio                  Guarulhos\n",
       "codigo_ibge                  3518800\n",
       "dia                               17\n",
       "mes                                4\n",
       "datahora         2021-04-17 00:00:00\n",
       "casos                          46374\n",
       "casos_novos                      698\n",
       "casos_pc                        3432\n",
       "casos_mm7d                       423\n",
       "obitos                          3192\n",
       "obitos_novos                      34\n",
       "obitos_pc                        236\n",
       "obitos_mm7d                       32\n",
       "letalidade                         0\n",
       "nome_ra              RM de São Paulo\n",
       "cod_ra                            10\n",
       "nome_drs            Grande São Paulo\n",
       "cod_drs                           10\n",
       "pop                          1351275\n",
       "pop_60                        162662\n",
       "area                           31868\n",
       "map_leg                          NaN\n",
       "map_leg_s                        1.0\n",
       "latitude                    -23,4538\n",
       "longitude                   -46,5333\n",
       "semana_epidem                     15\n",
       "indice                        269178\n",
       "Name: 417, dtype: object"
      ]
     },
     "execution_count": 80,
     "metadata": {},
     "output_type": "execute_result"
    }
   ],
   "source": [
    "guarulhos.iloc[guarulhos['casos_novos'].argmax()]"
   ]
  },
  {
   "cell_type": "code",
   "execution_count": 67,
   "metadata": {},
   "outputs": [
    {
     "data": {
      "text/html": [
       "<div>\n",
       "<style scoped>\n",
       "    .dataframe tbody tr th:only-of-type {\n",
       "        vertical-align: middle;\n",
       "    }\n",
       "\n",
       "    .dataframe tbody tr th {\n",
       "        vertical-align: top;\n",
       "    }\n",
       "\n",
       "    .dataframe thead th {\n",
       "        text-align: right;\n",
       "    }\n",
       "</style>\n",
       "<table border=\"1\" class=\"dataframe\">\n",
       "  <thead>\n",
       "    <tr style=\"text-align: right;\">\n",
       "      <th></th>\n",
       "      <th>casos</th>\n",
       "      <th>casos_novos</th>\n",
       "      <th>obitos</th>\n",
       "      <th>obitos_novos</th>\n",
       "    </tr>\n",
       "  </thead>\n",
       "  <tbody>\n",
       "    <tr>\n",
       "      <th>casos</th>\n",
       "      <td>1.000000</td>\n",
       "      <td>0.153503</td>\n",
       "      <td>0.989655</td>\n",
       "      <td>0.191457</td>\n",
       "    </tr>\n",
       "    <tr>\n",
       "      <th>casos_novos</th>\n",
       "      <td>0.153503</td>\n",
       "      <td>1.000000</td>\n",
       "      <td>0.126020</td>\n",
       "      <td>0.639300</td>\n",
       "    </tr>\n",
       "    <tr>\n",
       "      <th>obitos</th>\n",
       "      <td>0.989655</td>\n",
       "      <td>0.126020</td>\n",
       "      <td>1.000000</td>\n",
       "      <td>0.178165</td>\n",
       "    </tr>\n",
       "    <tr>\n",
       "      <th>obitos_novos</th>\n",
       "      <td>0.191457</td>\n",
       "      <td>0.639300</td>\n",
       "      <td>0.178165</td>\n",
       "      <td>1.000000</td>\n",
       "    </tr>\n",
       "  </tbody>\n",
       "</table>\n",
       "</div>"
      ],
      "text/plain": [
       "                 casos  casos_novos    obitos  obitos_novos\n",
       "casos         1.000000     0.153503  0.989655      0.191457\n",
       "casos_novos   0.153503     1.000000  0.126020      0.639300\n",
       "obitos        0.989655     0.126020  1.000000      0.178165\n",
       "obitos_novos  0.191457     0.639300  0.178165      1.000000"
      ]
     },
     "execution_count": 67,
     "metadata": {},
     "output_type": "execute_result"
    }
   ],
   "source": [
    "corr = guarulos_sel.corr()\n",
    "corr"
   ]
  },
  {
   "cell_type": "code",
   "execution_count": 71,
   "metadata": {},
   "outputs": [
    {
     "data": {
      "image/png": "[encoded data removed]",
      "text/plain": [
       "<Figure size 640x480 with 2 Axes>"
      ]
     },
     "metadata": {},
     "output_type": "display_data"
    }
   ],
   "source": [
    "plt.figure()\n",
    "sns.heatmap(corr, annot=True);"
   ]
  },
  {
   "cell_type": "code",
   "execution_count": 87,
   "metadata": {},
   "outputs": [],
   "source": [
    "import scipy.stats as stats"
   ]
  },
  {
   "cell_type": "code",
   "execution_count": 89,
   "metadata": {},
   "outputs": [
    {
     "data": {
      "image/png": "[encoded data removed]",
      "text/plain": [
       "<Figure size 640x480 with 1 Axes>"
      ]
     },
     "metadata": {},
     "output_type": "display_data"
    }
   ],
   "source": [
    "stats.probplot(guarulhos['obitos'],dist='norm',plot=plt)\n",
    "plt.title('Análise de normalidade de óbitos em Guarulhos')\n",
    "plt.show()"
   ]
  },
  {
   "cell_type": "code",
   "execution_count": 95,
   "metadata": {},
   "outputs": [
    {
     "data": {
      "text/html": [
       "<div>\n",
       "<style scoped>\n",
       "    .dataframe tbody tr th:only-of-type {\n",
       "        vertical-align: middle;\n",
       "    }\n",
       "\n",
       "    .dataframe tbody tr th {\n",
       "        vertical-align: top;\n",
       "    }\n",
       "\n",
       "    .dataframe thead th {\n",
       "        text-align: right;\n",
       "    }\n",
       "</style>\n",
       "<table border=\"1\" class=\"dataframe\">\n",
       "  <thead>\n",
       "    <tr style=\"text-align: right;\">\n",
       "      <th></th>\n",
       "      <th>casos</th>\n",
       "      <th>casos_novos</th>\n",
       "      <th>obitos</th>\n",
       "      <th>obitos_novos</th>\n",
       "    </tr>\n",
       "  </thead>\n",
       "  <tbody>\n",
       "    <tr>\n",
       "      <th>0</th>\n",
       "      <td>0</td>\n",
       "      <td>0</td>\n",
       "      <td>0</td>\n",
       "      <td>0</td>\n",
       "    </tr>\n",
       "    <tr>\n",
       "      <th>1</th>\n",
       "      <td>0</td>\n",
       "      <td>0</td>\n",
       "      <td>0</td>\n",
       "      <td>0</td>\n",
       "    </tr>\n",
       "    <tr>\n",
       "      <th>2</th>\n",
       "      <td>0</td>\n",
       "      <td>0</td>\n",
       "      <td>0</td>\n",
       "      <td>0</td>\n",
       "    </tr>\n",
       "    <tr>\n",
       "      <th>3</th>\n",
       "      <td>0</td>\n",
       "      <td>0</td>\n",
       "      <td>0</td>\n",
       "      <td>0</td>\n",
       "    </tr>\n",
       "    <tr>\n",
       "      <th>4</th>\n",
       "      <td>0</td>\n",
       "      <td>0</td>\n",
       "      <td>0</td>\n",
       "      <td>0</td>\n",
       "    </tr>\n",
       "    <tr>\n",
       "      <th>...</th>\n",
       "      <td>...</td>\n",
       "      <td>...</td>\n",
       "      <td>...</td>\n",
       "      <td>...</td>\n",
       "    </tr>\n",
       "    <tr>\n",
       "      <th>574</th>\n",
       "      <td>112492</td>\n",
       "      <td>207</td>\n",
       "      <td>4449</td>\n",
       "      <td>3</td>\n",
       "    </tr>\n",
       "    <tr>\n",
       "      <th>575</th>\n",
       "      <td>112624</td>\n",
       "      <td>132</td>\n",
       "      <td>4461</td>\n",
       "      <td>12</td>\n",
       "    </tr>\n",
       "    <tr>\n",
       "      <th>576</th>\n",
       "      <td>112745</td>\n",
       "      <td>121</td>\n",
       "      <td>4464</td>\n",
       "      <td>3</td>\n",
       "    </tr>\n",
       "    <tr>\n",
       "      <th>577</th>\n",
       "      <td>112773</td>\n",
       "      <td>28</td>\n",
       "      <td>4467</td>\n",
       "      <td>3</td>\n",
       "    </tr>\n",
       "    <tr>\n",
       "      <th>578</th>\n",
       "      <td>112841</td>\n",
       "      <td>68</td>\n",
       "      <td>4471</td>\n",
       "      <td>4</td>\n",
       "    </tr>\n",
       "  </tbody>\n",
       "</table>\n",
       "<p>579 rows × 4 columns</p>\n",
       "</div>"
      ],
      "text/plain": [
       "      casos  casos_novos  obitos  obitos_novos\n",
       "0         0            0       0             0\n",
       "1         0            0       0             0\n",
       "2         0            0       0             0\n",
       "3         0            0       0             0\n",
       "4         0            0       0             0\n",
       "..      ...          ...     ...           ...\n",
       "574  112492          207    4449             3\n",
       "575  112624          132    4461            12\n",
       "576  112745          121    4464             3\n",
       "577  112773           28    4467             3\n",
       "578  112841           68    4471             4\n",
       "\n",
       "[579 rows x 4 columns]"
      ]
     },
     "execution_count": 95,
     "metadata": {},
     "output_type": "execute_result"
    }
   ],
   "source": [
    "campinas_sel = campinas[['casos','casos_novos','obitos','obitos_novos']]\n",
    "campinas_sel"
   ]
  },
  {
   "cell_type": "code",
   "execution_count": 97,
   "metadata": {},
   "outputs": [
    {
     "data": {
      "text/html": [
       "<div>\n",
       "<style scoped>\n",
       "    .dataframe tbody tr th:only-of-type {\n",
       "        vertical-align: middle;\n",
       "    }\n",
       "\n",
       "    .dataframe tbody tr th {\n",
       "        vertical-align: top;\n",
       "    }\n",
       "\n",
       "    .dataframe thead th {\n",
       "        text-align: right;\n",
       "    }\n",
       "</style>\n",
       "<table border=\"1\" class=\"dataframe\">\n",
       "  <thead>\n",
       "    <tr style=\"text-align: right;\">\n",
       "      <th></th>\n",
       "      <th>casos</th>\n",
       "      <th>casos_novos</th>\n",
       "      <th>obitos</th>\n",
       "      <th>obitos_novos</th>\n",
       "    </tr>\n",
       "  </thead>\n",
       "  <tbody>\n",
       "    <tr>\n",
       "      <th>count</th>\n",
       "      <td>579.000</td>\n",
       "      <td>579.000</td>\n",
       "      <td>579.000</td>\n",
       "      <td>579.000</td>\n",
       "    </tr>\n",
       "    <tr>\n",
       "      <th>mean</th>\n",
       "      <td>46549.332</td>\n",
       "      <td>194.889</td>\n",
       "      <td>1763.333</td>\n",
       "      <td>7.722</td>\n",
       "    </tr>\n",
       "    <tr>\n",
       "      <th>std</th>\n",
       "      <td>36212.354</td>\n",
       "      <td>173.934</td>\n",
       "      <td>1427.150</td>\n",
       "      <td>8.958</td>\n",
       "    </tr>\n",
       "    <tr>\n",
       "      <th>min</th>\n",
       "      <td>0.000</td>\n",
       "      <td>0.000</td>\n",
       "      <td>0.000</td>\n",
       "      <td>0.000</td>\n",
       "    </tr>\n",
       "    <tr>\n",
       "      <th>25%</th>\n",
       "      <td>12926.000</td>\n",
       "      <td>39.000</td>\n",
       "      <td>540.500</td>\n",
       "      <td>1.000</td>\n",
       "    </tr>\n",
       "    <tr>\n",
       "      <th>50%</th>\n",
       "      <td>39112.000</td>\n",
       "      <td>148.000</td>\n",
       "      <td>1407.000</td>\n",
       "      <td>5.000</td>\n",
       "    </tr>\n",
       "    <tr>\n",
       "      <th>75%</th>\n",
       "      <td>77445.500</td>\n",
       "      <td>326.000</td>\n",
       "      <td>3048.500</td>\n",
       "      <td>12.000</td>\n",
       "    </tr>\n",
       "    <tr>\n",
       "      <th>max</th>\n",
       "      <td>112841.000</td>\n",
       "      <td>1080.000</td>\n",
       "      <td>4471.000</td>\n",
       "      <td>67.000</td>\n",
       "    </tr>\n",
       "  </tbody>\n",
       "</table>\n",
       "</div>"
      ],
      "text/plain": [
       "            casos  casos_novos    obitos  obitos_novos\n",
       "count     579.000      579.000   579.000       579.000\n",
       "mean    46549.332      194.889  1763.333         7.722\n",
       "std     36212.354      173.934  1427.150         8.958\n",
       "min         0.000        0.000     0.000         0.000\n",
       "25%     12926.000       39.000   540.500         1.000\n",
       "50%     39112.000      148.000  1407.000         5.000\n",
       "75%     77445.500      326.000  3048.500        12.000\n",
       "max    112841.000     1080.000  4471.000        67.000"
      ]
     },
     "execution_count": 97,
     "metadata": {},
     "output_type": "execute_result"
    }
   ],
   "source": [
    "campinas_sel.describe().round(3)"
   ]
  },
  {
   "cell_type": "code",
   "execution_count": 98,
   "metadata": {},
   "outputs": [
    {
     "data": {
      "text/html": [
       "<div>\n",
       "<style scoped>\n",
       "    .dataframe tbody tr th:only-of-type {\n",
       "        vertical-align: middle;\n",
       "    }\n",
       "\n",
       "    .dataframe tbody tr th {\n",
       "        vertical-align: top;\n",
       "    }\n",
       "\n",
       "    .dataframe thead th {\n",
       "        text-align: right;\n",
       "    }\n",
       "</style>\n",
       "<table border=\"1\" class=\"dataframe\">\n",
       "  <thead>\n",
       "    <tr style=\"text-align: right;\">\n",
       "      <th></th>\n",
       "      <th>casos</th>\n",
       "      <th>casos_novos</th>\n",
       "      <th>obitos</th>\n",
       "      <th>obitos_novos</th>\n",
       "    </tr>\n",
       "  </thead>\n",
       "  <tbody>\n",
       "    <tr>\n",
       "      <th>count</th>\n",
       "      <td>579.000</td>\n",
       "      <td>579.000</td>\n",
       "      <td>579.000</td>\n",
       "      <td>579.000</td>\n",
       "    </tr>\n",
       "    <tr>\n",
       "      <th>mean</th>\n",
       "      <td>28828.468</td>\n",
       "      <td>109.496</td>\n",
       "      <td>2061.727</td>\n",
       "      <td>8.404</td>\n",
       "    </tr>\n",
       "    <tr>\n",
       "      <th>std</th>\n",
       "      <td>21174.548</td>\n",
       "      <td>100.262</td>\n",
       "      <td>1573.591</td>\n",
       "      <td>11.511</td>\n",
       "    </tr>\n",
       "    <tr>\n",
       "      <th>min</th>\n",
       "      <td>0.000</td>\n",
       "      <td>0.000</td>\n",
       "      <td>0.000</td>\n",
       "      <td>0.000</td>\n",
       "    </tr>\n",
       "    <tr>\n",
       "      <th>25%</th>\n",
       "      <td>10087.500</td>\n",
       "      <td>27.500</td>\n",
       "      <td>915.500</td>\n",
       "      <td>0.000</td>\n",
       "    </tr>\n",
       "    <tr>\n",
       "      <th>50%</th>\n",
       "      <td>26188.000</td>\n",
       "      <td>87.000</td>\n",
       "      <td>1640.000</td>\n",
       "      <td>4.000</td>\n",
       "    </tr>\n",
       "    <tr>\n",
       "      <th>75%</th>\n",
       "      <td>49702.500</td>\n",
       "      <td>161.000</td>\n",
       "      <td>3542.500</td>\n",
       "      <td>12.000</td>\n",
       "    </tr>\n",
       "    <tr>\n",
       "      <th>max</th>\n",
       "      <td>63398.000</td>\n",
       "      <td>698.000</td>\n",
       "      <td>4866.000</td>\n",
       "      <td>77.000</td>\n",
       "    </tr>\n",
       "  </tbody>\n",
       "</table>\n",
       "</div>"
      ],
      "text/plain": [
       "           casos  casos_novos    obitos  obitos_novos\n",
       "count    579.000      579.000   579.000       579.000\n",
       "mean   28828.468      109.496  2061.727         8.404\n",
       "std    21174.548      100.262  1573.591        11.511\n",
       "min        0.000        0.000     0.000         0.000\n",
       "25%    10087.500       27.500   915.500         0.000\n",
       "50%    26188.000       87.000  1640.000         4.000\n",
       "75%    49702.500      161.000  3542.500        12.000\n",
       "max    63398.000      698.000  4866.000        77.000"
      ]
     },
     "execution_count": 98,
     "metadata": {},
     "output_type": "execute_result"
    }
   ],
   "source": [
    "guarulos_sel.describe().round(3)"
   ]
  },
  {
   "cell_type": "code",
   "execution_count": 110,
   "metadata": {},
   "outputs": [],
   "source": [
    "x = guarulhos['pop'].max()\n",
    "y = campinas['pop'].max()\n",
    "a = guarulhos['casos'].max()\n",
    "b = campinas['casos'].max()\n",
    "c = guarulhos['obitos'].max()\n",
    "d = campinas['obitos'].max()"
   ]
  },
  {
   "cell_type": "code",
   "execution_count": 114,
   "metadata": {},
   "outputs": [
    {
     "name": "stdout",
     "output_type": "stream",
     "text": [
      "A População da cidade de Campinas é de 1175501, a quantidade de casos foi de 112841 e o número de óbitos foi de 4471.\n",
      "A População da cidade de Guarulhos é de 1351275, a quantidade de casos foi de 63398 e o número de óbitos foi de 4866.\n"
     ]
    }
   ],
   "source": [
    "# Nota-se que a cidade de Guarulhos mesmo sendo mais populosa possui menos casos, seria conveniente uma pesquisa,\n",
    "# sobre o que foi feito na cidade para combater os casos de Covid.\n",
    "# Em contra partida, o número de óbitos na cidade de Guarulhos foi superior a de Campinas, mesmo tendo menos casos.\n",
    "\n",
    "print(f'A População da cidade de Campinas é de {y}, a quantidade de casos foi de {b} e o número de óbitos foi de {d}.')\n",
    "print(f'A População da cidade de Guarulhos é de {x}, a quantidade de casos foi de {a} e o número de óbitos foi de {c}.')"
   ]
  },
  {
   "cell_type": "code",
   "execution_count": null,
   "metadata": {},
   "outputs": [],
   "source": [
    "# Densidade demográfica de Guarulhos 4.053km^2\n",
    "# Densidade demográfica de Campinas 1.360km^2"
   ]
  },
  {
   "cell_type": "code",
   "execution_count": 115,
   "metadata": {},
   "outputs": [
    {
     "data": {
      "text/html": [
       "<div>\n",
       "<style scoped>\n",
       "    .dataframe tbody tr th:only-of-type {\n",
       "        vertical-align: middle;\n",
       "    }\n",
       "\n",
       "    .dataframe tbody tr th {\n",
       "        vertical-align: top;\n",
       "    }\n",
       "\n",
       "    .dataframe thead th {\n",
       "        text-align: right;\n",
       "    }\n",
       "</style>\n",
       "<table border=\"1\" class=\"dataframe\">\n",
       "  <thead>\n",
       "    <tr style=\"text-align: right;\">\n",
       "      <th></th>\n",
       "      <th>municipio</th>\n",
       "      <th>codigo_ibge</th>\n",
       "      <th>dia</th>\n",
       "      <th>mes</th>\n",
       "      <th>datahora</th>\n",
       "      <th>casos</th>\n",
       "      <th>casos_novos</th>\n",
       "      <th>casos_pc</th>\n",
       "      <th>casos_mm7d</th>\n",
       "      <th>obitos</th>\n",
       "      <th>...</th>\n",
       "      <th>cod_drs</th>\n",
       "      <th>pop</th>\n",
       "      <th>pop_60</th>\n",
       "      <th>area</th>\n",
       "      <th>map_leg</th>\n",
       "      <th>map_leg_s</th>\n",
       "      <th>latitude</th>\n",
       "      <th>longitude</th>\n",
       "      <th>semana_epidem</th>\n",
       "      <th>indice</th>\n",
       "    </tr>\n",
       "    <tr>\n",
       "      <th>indice</th>\n",
       "      <th></th>\n",
       "      <th></th>\n",
       "      <th></th>\n",
       "      <th></th>\n",
       "      <th></th>\n",
       "      <th></th>\n",
       "      <th></th>\n",
       "      <th></th>\n",
       "      <th></th>\n",
       "      <th></th>\n",
       "      <th></th>\n",
       "      <th></th>\n",
       "      <th></th>\n",
       "      <th></th>\n",
       "      <th></th>\n",
       "      <th></th>\n",
       "      <th></th>\n",
       "      <th></th>\n",
       "      <th></th>\n",
       "      <th></th>\n",
       "      <th></th>\n",
       "    </tr>\n",
       "  </thead>\n",
       "  <tbody>\n",
       "    <tr>\n",
       "      <th>535</th>\n",
       "      <td>Santo André</td>\n",
       "      <td>3547809</td>\n",
       "      <td>25</td>\n",
       "      <td>2</td>\n",
       "      <td>2020-02-25</td>\n",
       "      <td>0</td>\n",
       "      <td>0</td>\n",
       "      <td>0</td>\n",
       "      <td>0</td>\n",
       "      <td>0</td>\n",
       "      <td>...</td>\n",
       "      <td>10</td>\n",
       "      <td>693867</td>\n",
       "      <td>123293</td>\n",
       "      <td>17578</td>\n",
       "      <td>0.0</td>\n",
       "      <td>8.0</td>\n",
       "      <td>-23,6737</td>\n",
       "      <td>-46,5432</td>\n",
       "      <td>9</td>\n",
       "      <td>535</td>\n",
       "    </tr>\n",
       "    <tr>\n",
       "      <th>1180</th>\n",
       "      <td>Santo André</td>\n",
       "      <td>3547809</td>\n",
       "      <td>26</td>\n",
       "      <td>2</td>\n",
       "      <td>2020-02-26</td>\n",
       "      <td>0</td>\n",
       "      <td>0</td>\n",
       "      <td>0</td>\n",
       "      <td>0</td>\n",
       "      <td>0</td>\n",
       "      <td>...</td>\n",
       "      <td>10</td>\n",
       "      <td>693867</td>\n",
       "      <td>123293</td>\n",
       "      <td>17578</td>\n",
       "      <td>0.0</td>\n",
       "      <td>8.0</td>\n",
       "      <td>-23,6737</td>\n",
       "      <td>-46,5432</td>\n",
       "      <td>9</td>\n",
       "      <td>1180</td>\n",
       "    </tr>\n",
       "    <tr>\n",
       "      <th>1825</th>\n",
       "      <td>Santo André</td>\n",
       "      <td>3547809</td>\n",
       "      <td>27</td>\n",
       "      <td>2</td>\n",
       "      <td>2020-02-27</td>\n",
       "      <td>0</td>\n",
       "      <td>0</td>\n",
       "      <td>0</td>\n",
       "      <td>0</td>\n",
       "      <td>0</td>\n",
       "      <td>...</td>\n",
       "      <td>10</td>\n",
       "      <td>693867</td>\n",
       "      <td>123293</td>\n",
       "      <td>17578</td>\n",
       "      <td>0.0</td>\n",
       "      <td>8.0</td>\n",
       "      <td>-23,6737</td>\n",
       "      <td>-46,5432</td>\n",
       "      <td>9</td>\n",
       "      <td>1825</td>\n",
       "    </tr>\n",
       "    <tr>\n",
       "      <th>2470</th>\n",
       "      <td>Santo André</td>\n",
       "      <td>3547809</td>\n",
       "      <td>28</td>\n",
       "      <td>2</td>\n",
       "      <td>2020-02-28</td>\n",
       "      <td>0</td>\n",
       "      <td>0</td>\n",
       "      <td>0</td>\n",
       "      <td>0</td>\n",
       "      <td>0</td>\n",
       "      <td>...</td>\n",
       "      <td>10</td>\n",
       "      <td>693867</td>\n",
       "      <td>123293</td>\n",
       "      <td>17578</td>\n",
       "      <td>0.0</td>\n",
       "      <td>8.0</td>\n",
       "      <td>-23,6737</td>\n",
       "      <td>-46,5432</td>\n",
       "      <td>9</td>\n",
       "      <td>2470</td>\n",
       "    </tr>\n",
       "    <tr>\n",
       "      <th>3115</th>\n",
       "      <td>Santo André</td>\n",
       "      <td>3547809</td>\n",
       "      <td>29</td>\n",
       "      <td>2</td>\n",
       "      <td>2020-02-29</td>\n",
       "      <td>0</td>\n",
       "      <td>0</td>\n",
       "      <td>0</td>\n",
       "      <td>0</td>\n",
       "      <td>0</td>\n",
       "      <td>...</td>\n",
       "      <td>10</td>\n",
       "      <td>693867</td>\n",
       "      <td>123293</td>\n",
       "      <td>17578</td>\n",
       "      <td>0.0</td>\n",
       "      <td>8.0</td>\n",
       "      <td>-23,6737</td>\n",
       "      <td>-46,5432</td>\n",
       "      <td>9</td>\n",
       "      <td>3115</td>\n",
       "    </tr>\n",
       "    <tr>\n",
       "      <th>...</th>\n",
       "      <td>...</td>\n",
       "      <td>...</td>\n",
       "      <td>...</td>\n",
       "      <td>...</td>\n",
       "      <td>...</td>\n",
       "      <td>...</td>\n",
       "      <td>...</td>\n",
       "      <td>...</td>\n",
       "      <td>...</td>\n",
       "      <td>...</td>\n",
       "      <td>...</td>\n",
       "      <td>...</td>\n",
       "      <td>...</td>\n",
       "      <td>...</td>\n",
       "      <td>...</td>\n",
       "      <td>...</td>\n",
       "      <td>...</td>\n",
       "      <td>...</td>\n",
       "      <td>...</td>\n",
       "      <td>...</td>\n",
       "      <td>...</td>\n",
       "    </tr>\n",
       "    <tr>\n",
       "      <th>370765</th>\n",
       "      <td>Santo André</td>\n",
       "      <td>3547809</td>\n",
       "      <td>21</td>\n",
       "      <td>9</td>\n",
       "      <td>2021-09-21</td>\n",
       "      <td>65208</td>\n",
       "      <td>18</td>\n",
       "      <td>9398</td>\n",
       "      <td>72</td>\n",
       "      <td>3046</td>\n",
       "      <td>...</td>\n",
       "      <td>10</td>\n",
       "      <td>693867</td>\n",
       "      <td>123293</td>\n",
       "      <td>17578</td>\n",
       "      <td>NaN</td>\n",
       "      <td>1.0</td>\n",
       "      <td>-23,6737</td>\n",
       "      <td>-46,5432</td>\n",
       "      <td>38</td>\n",
       "      <td>370765</td>\n",
       "    </tr>\n",
       "    <tr>\n",
       "      <th>371410</th>\n",
       "      <td>Santo André</td>\n",
       "      <td>3547809</td>\n",
       "      <td>22</td>\n",
       "      <td>9</td>\n",
       "      <td>2021-09-22</td>\n",
       "      <td>65241</td>\n",
       "      <td>33</td>\n",
       "      <td>9403</td>\n",
       "      <td>77</td>\n",
       "      <td>3055</td>\n",
       "      <td>...</td>\n",
       "      <td>10</td>\n",
       "      <td>693867</td>\n",
       "      <td>123293</td>\n",
       "      <td>17578</td>\n",
       "      <td>NaN</td>\n",
       "      <td>1.0</td>\n",
       "      <td>-23,6737</td>\n",
       "      <td>-46,5432</td>\n",
       "      <td>38</td>\n",
       "      <td>371410</td>\n",
       "    </tr>\n",
       "    <tr>\n",
       "      <th>372055</th>\n",
       "      <td>Santo André</td>\n",
       "      <td>3547809</td>\n",
       "      <td>23</td>\n",
       "      <td>9</td>\n",
       "      <td>2021-09-23</td>\n",
       "      <td>65326</td>\n",
       "      <td>85</td>\n",
       "      <td>9415</td>\n",
       "      <td>88</td>\n",
       "      <td>3070</td>\n",
       "      <td>...</td>\n",
       "      <td>10</td>\n",
       "      <td>693867</td>\n",
       "      <td>123293</td>\n",
       "      <td>17578</td>\n",
       "      <td>NaN</td>\n",
       "      <td>1.0</td>\n",
       "      <td>-23,6737</td>\n",
       "      <td>-46,5432</td>\n",
       "      <td>38</td>\n",
       "      <td>372055</td>\n",
       "    </tr>\n",
       "    <tr>\n",
       "      <th>372700</th>\n",
       "      <td>Santo André</td>\n",
       "      <td>3547809</td>\n",
       "      <td>24</td>\n",
       "      <td>9</td>\n",
       "      <td>2021-09-24</td>\n",
       "      <td>65331</td>\n",
       "      <td>5</td>\n",
       "      <td>9415</td>\n",
       "      <td>20</td>\n",
       "      <td>3074</td>\n",
       "      <td>...</td>\n",
       "      <td>10</td>\n",
       "      <td>693867</td>\n",
       "      <td>123293</td>\n",
       "      <td>17578</td>\n",
       "      <td>NaN</td>\n",
       "      <td>1.0</td>\n",
       "      <td>-23,6737</td>\n",
       "      <td>-46,5432</td>\n",
       "      <td>38</td>\n",
       "      <td>372700</td>\n",
       "    </tr>\n",
       "    <tr>\n",
       "      <th>373345</th>\n",
       "      <td>Santo André</td>\n",
       "      <td>3547809</td>\n",
       "      <td>25</td>\n",
       "      <td>9</td>\n",
       "      <td>2021-09-25</td>\n",
       "      <td>65331</td>\n",
       "      <td>0</td>\n",
       "      <td>9415</td>\n",
       "      <td>20</td>\n",
       "      <td>3074</td>\n",
       "      <td>...</td>\n",
       "      <td>10</td>\n",
       "      <td>693867</td>\n",
       "      <td>123293</td>\n",
       "      <td>17578</td>\n",
       "      <td>NaN</td>\n",
       "      <td>1.0</td>\n",
       "      <td>-23,6737</td>\n",
       "      <td>-46,5432</td>\n",
       "      <td>38</td>\n",
       "      <td>373345</td>\n",
       "    </tr>\n",
       "  </tbody>\n",
       "</table>\n",
       "<p>579 rows × 27 columns</p>\n",
       "</div>"
      ],
      "text/plain": [
       "          municipio  codigo_ibge  dia  mes   datahora  casos  casos_novos  \\\n",
       "indice                                                                      \n",
       "535     Santo André      3547809   25    2 2020-02-25      0            0   \n",
       "1180    Santo André      3547809   26    2 2020-02-26      0            0   \n",
       "1825    Santo André      3547809   27    2 2020-02-27      0            0   \n",
       "2470    Santo André      3547809   28    2 2020-02-28      0            0   \n",
       "3115    Santo André      3547809   29    2 2020-02-29      0            0   \n",
       "...             ...          ...  ...  ...        ...    ...          ...   \n",
       "370765  Santo André      3547809   21    9 2021-09-21  65208           18   \n",
       "371410  Santo André      3547809   22    9 2021-09-22  65241           33   \n",
       "372055  Santo André      3547809   23    9 2021-09-23  65326           85   \n",
       "372700  Santo André      3547809   24    9 2021-09-24  65331            5   \n",
       "373345  Santo André      3547809   25    9 2021-09-25  65331            0   \n",
       "\n",
       "        casos_pc  casos_mm7d  obitos  ...  cod_drs     pop  pop_60   area  \\\n",
       "indice                                ...                                   \n",
       "535            0           0       0  ...       10  693867  123293  17578   \n",
       "1180           0           0       0  ...       10  693867  123293  17578   \n",
       "1825           0           0       0  ...       10  693867  123293  17578   \n",
       "2470           0           0       0  ...       10  693867  123293  17578   \n",
       "3115           0           0       0  ...       10  693867  123293  17578   \n",
       "...          ...         ...     ...  ...      ...     ...     ...    ...   \n",
       "370765      9398          72    3046  ...       10  693867  123293  17578   \n",
       "371410      9403          77    3055  ...       10  693867  123293  17578   \n",
       "372055      9415          88    3070  ...       10  693867  123293  17578   \n",
       "372700      9415          20    3074  ...       10  693867  123293  17578   \n",
       "373345      9415          20    3074  ...       10  693867  123293  17578   \n",
       "\n",
       "       map_leg  map_leg_s  latitude  longitude  semana_epidem  indice  \n",
       "indice                                                                 \n",
       "535        0.0        8.0  -23,6737   -46,5432              9     535  \n",
       "1180       0.0        8.0  -23,6737   -46,5432              9    1180  \n",
       "1825       0.0        8.0  -23,6737   -46,5432              9    1825  \n",
       "2470       0.0        8.0  -23,6737   -46,5432              9    2470  \n",
       "3115       0.0        8.0  -23,6737   -46,5432              9    3115  \n",
       "...        ...        ...       ...        ...            ...     ...  \n",
       "370765     NaN        1.0  -23,6737   -46,5432             38  370765  \n",
       "371410     NaN        1.0  -23,6737   -46,5432             38  371410  \n",
       "372055     NaN        1.0  -23,6737   -46,5432             38  372055  \n",
       "372700     NaN        1.0  -23,6737   -46,5432             38  372700  \n",
       "373345     NaN        1.0  -23,6737   -46,5432             38  373345  \n",
       "\n",
       "[579 rows x 27 columns]"
      ]
     },
     "execution_count": 115,
     "metadata": {},
     "output_type": "execute_result"
    }
   ],
   "source": [
    "# Resolvi comparar as cidade de Santo André e Osasco, que possuem números quase semelhantes de população, em sua quantidade.\n",
    "\n",
    "santo_andre = covid_sp[covid_sp['municipio']=='Santo André']\n",
    "santo_andre"
   ]
  },
  {
   "cell_type": "code",
   "execution_count": 116,
   "metadata": {},
   "outputs": [
    {
     "data": {
      "text/html": [
       "<div>\n",
       "<style scoped>\n",
       "    .dataframe tbody tr th:only-of-type {\n",
       "        vertical-align: middle;\n",
       "    }\n",
       "\n",
       "    .dataframe tbody tr th {\n",
       "        vertical-align: top;\n",
       "    }\n",
       "\n",
       "    .dataframe thead th {\n",
       "        text-align: right;\n",
       "    }\n",
       "</style>\n",
       "<table border=\"1\" class=\"dataframe\">\n",
       "  <thead>\n",
       "    <tr style=\"text-align: right;\">\n",
       "      <th></th>\n",
       "      <th>municipio</th>\n",
       "      <th>codigo_ibge</th>\n",
       "      <th>dia</th>\n",
       "      <th>mes</th>\n",
       "      <th>datahora</th>\n",
       "      <th>casos</th>\n",
       "      <th>casos_novos</th>\n",
       "      <th>casos_pc</th>\n",
       "      <th>casos_mm7d</th>\n",
       "      <th>obitos</th>\n",
       "      <th>...</th>\n",
       "      <th>cod_drs</th>\n",
       "      <th>pop</th>\n",
       "      <th>pop_60</th>\n",
       "      <th>area</th>\n",
       "      <th>map_leg</th>\n",
       "      <th>map_leg_s</th>\n",
       "      <th>latitude</th>\n",
       "      <th>longitude</th>\n",
       "      <th>semana_epidem</th>\n",
       "      <th>indice</th>\n",
       "    </tr>\n",
       "    <tr>\n",
       "      <th>indice</th>\n",
       "      <th></th>\n",
       "      <th></th>\n",
       "      <th></th>\n",
       "      <th></th>\n",
       "      <th></th>\n",
       "      <th></th>\n",
       "      <th></th>\n",
       "      <th></th>\n",
       "      <th></th>\n",
       "      <th></th>\n",
       "      <th></th>\n",
       "      <th></th>\n",
       "      <th></th>\n",
       "      <th></th>\n",
       "      <th></th>\n",
       "      <th></th>\n",
       "      <th></th>\n",
       "      <th></th>\n",
       "      <th></th>\n",
       "      <th></th>\n",
       "      <th></th>\n",
       "    </tr>\n",
       "  </thead>\n",
       "  <tbody>\n",
       "    <tr>\n",
       "      <th>388</th>\n",
       "      <td>Osasco</td>\n",
       "      <td>3534401</td>\n",
       "      <td>25</td>\n",
       "      <td>2</td>\n",
       "      <td>2020-02-25</td>\n",
       "      <td>0</td>\n",
       "      <td>0</td>\n",
       "      <td>0</td>\n",
       "      <td>0</td>\n",
       "      <td>0</td>\n",
       "      <td>...</td>\n",
       "      <td>10</td>\n",
       "      <td>680964</td>\n",
       "      <td>93147</td>\n",
       "      <td>6495</td>\n",
       "      <td>0.0</td>\n",
       "      <td>8.0</td>\n",
       "      <td>-23,5324</td>\n",
       "      <td>-46,7916</td>\n",
       "      <td>9</td>\n",
       "      <td>388</td>\n",
       "    </tr>\n",
       "    <tr>\n",
       "      <th>1033</th>\n",
       "      <td>Osasco</td>\n",
       "      <td>3534401</td>\n",
       "      <td>26</td>\n",
       "      <td>2</td>\n",
       "      <td>2020-02-26</td>\n",
       "      <td>0</td>\n",
       "      <td>0</td>\n",
       "      <td>0</td>\n",
       "      <td>0</td>\n",
       "      <td>0</td>\n",
       "      <td>...</td>\n",
       "      <td>10</td>\n",
       "      <td>680964</td>\n",
       "      <td>93147</td>\n",
       "      <td>6495</td>\n",
       "      <td>0.0</td>\n",
       "      <td>8.0</td>\n",
       "      <td>-23,5324</td>\n",
       "      <td>-46,7916</td>\n",
       "      <td>9</td>\n",
       "      <td>1033</td>\n",
       "    </tr>\n",
       "    <tr>\n",
       "      <th>1678</th>\n",
       "      <td>Osasco</td>\n",
       "      <td>3534401</td>\n",
       "      <td>27</td>\n",
       "      <td>2</td>\n",
       "      <td>2020-02-27</td>\n",
       "      <td>0</td>\n",
       "      <td>0</td>\n",
       "      <td>0</td>\n",
       "      <td>0</td>\n",
       "      <td>0</td>\n",
       "      <td>...</td>\n",
       "      <td>10</td>\n",
       "      <td>680964</td>\n",
       "      <td>93147</td>\n",
       "      <td>6495</td>\n",
       "      <td>0.0</td>\n",
       "      <td>8.0</td>\n",
       "      <td>-23,5324</td>\n",
       "      <td>-46,7916</td>\n",
       "      <td>9</td>\n",
       "      <td>1678</td>\n",
       "    </tr>\n",
       "    <tr>\n",
       "      <th>2323</th>\n",
       "      <td>Osasco</td>\n",
       "      <td>3534401</td>\n",
       "      <td>28</td>\n",
       "      <td>2</td>\n",
       "      <td>2020-02-28</td>\n",
       "      <td>0</td>\n",
       "      <td>0</td>\n",
       "      <td>0</td>\n",
       "      <td>0</td>\n",
       "      <td>0</td>\n",
       "      <td>...</td>\n",
       "      <td>10</td>\n",
       "      <td>680964</td>\n",
       "      <td>93147</td>\n",
       "      <td>6495</td>\n",
       "      <td>0.0</td>\n",
       "      <td>8.0</td>\n",
       "      <td>-23,5324</td>\n",
       "      <td>-46,7916</td>\n",
       "      <td>9</td>\n",
       "      <td>2323</td>\n",
       "    </tr>\n",
       "    <tr>\n",
       "      <th>2968</th>\n",
       "      <td>Osasco</td>\n",
       "      <td>3534401</td>\n",
       "      <td>29</td>\n",
       "      <td>2</td>\n",
       "      <td>2020-02-29</td>\n",
       "      <td>0</td>\n",
       "      <td>0</td>\n",
       "      <td>0</td>\n",
       "      <td>0</td>\n",
       "      <td>0</td>\n",
       "      <td>...</td>\n",
       "      <td>10</td>\n",
       "      <td>680964</td>\n",
       "      <td>93147</td>\n",
       "      <td>6495</td>\n",
       "      <td>0.0</td>\n",
       "      <td>8.0</td>\n",
       "      <td>-23,5324</td>\n",
       "      <td>-46,7916</td>\n",
       "      <td>9</td>\n",
       "      <td>2968</td>\n",
       "    </tr>\n",
       "    <tr>\n",
       "      <th>...</th>\n",
       "      <td>...</td>\n",
       "      <td>...</td>\n",
       "      <td>...</td>\n",
       "      <td>...</td>\n",
       "      <td>...</td>\n",
       "      <td>...</td>\n",
       "      <td>...</td>\n",
       "      <td>...</td>\n",
       "      <td>...</td>\n",
       "      <td>...</td>\n",
       "      <td>...</td>\n",
       "      <td>...</td>\n",
       "      <td>...</td>\n",
       "      <td>...</td>\n",
       "      <td>...</td>\n",
       "      <td>...</td>\n",
       "      <td>...</td>\n",
       "      <td>...</td>\n",
       "      <td>...</td>\n",
       "      <td>...</td>\n",
       "      <td>...</td>\n",
       "    </tr>\n",
       "    <tr>\n",
       "      <th>370618</th>\n",
       "      <td>Osasco</td>\n",
       "      <td>3534401</td>\n",
       "      <td>21</td>\n",
       "      <td>9</td>\n",
       "      <td>2021-09-21</td>\n",
       "      <td>45236</td>\n",
       "      <td>10</td>\n",
       "      <td>6643</td>\n",
       "      <td>12</td>\n",
       "      <td>2588</td>\n",
       "      <td>...</td>\n",
       "      <td>10</td>\n",
       "      <td>680964</td>\n",
       "      <td>93147</td>\n",
       "      <td>6495</td>\n",
       "      <td>NaN</td>\n",
       "      <td>1.0</td>\n",
       "      <td>-23,5324</td>\n",
       "      <td>-46,7916</td>\n",
       "      <td>38</td>\n",
       "      <td>370618</td>\n",
       "    </tr>\n",
       "    <tr>\n",
       "      <th>371263</th>\n",
       "      <td>Osasco</td>\n",
       "      <td>3534401</td>\n",
       "      <td>22</td>\n",
       "      <td>9</td>\n",
       "      <td>2021-09-22</td>\n",
       "      <td>45247</td>\n",
       "      <td>11</td>\n",
       "      <td>6645</td>\n",
       "      <td>13</td>\n",
       "      <td>2591</td>\n",
       "      <td>...</td>\n",
       "      <td>10</td>\n",
       "      <td>680964</td>\n",
       "      <td>93147</td>\n",
       "      <td>6495</td>\n",
       "      <td>NaN</td>\n",
       "      <td>1.0</td>\n",
       "      <td>-23,5324</td>\n",
       "      <td>-46,7916</td>\n",
       "      <td>38</td>\n",
       "      <td>371263</td>\n",
       "    </tr>\n",
       "    <tr>\n",
       "      <th>371908</th>\n",
       "      <td>Osasco</td>\n",
       "      <td>3534401</td>\n",
       "      <td>23</td>\n",
       "      <td>9</td>\n",
       "      <td>2021-09-23</td>\n",
       "      <td>45256</td>\n",
       "      <td>9</td>\n",
       "      <td>6646</td>\n",
       "      <td>14</td>\n",
       "      <td>2592</td>\n",
       "      <td>...</td>\n",
       "      <td>10</td>\n",
       "      <td>680964</td>\n",
       "      <td>93147</td>\n",
       "      <td>6495</td>\n",
       "      <td>NaN</td>\n",
       "      <td>1.0</td>\n",
       "      <td>-23,5324</td>\n",
       "      <td>-46,7916</td>\n",
       "      <td>38</td>\n",
       "      <td>371908</td>\n",
       "    </tr>\n",
       "    <tr>\n",
       "      <th>372553</th>\n",
       "      <td>Osasco</td>\n",
       "      <td>3534401</td>\n",
       "      <td>24</td>\n",
       "      <td>9</td>\n",
       "      <td>2021-09-24</td>\n",
       "      <td>45292</td>\n",
       "      <td>36</td>\n",
       "      <td>6651</td>\n",
       "      <td>12</td>\n",
       "      <td>2598</td>\n",
       "      <td>...</td>\n",
       "      <td>10</td>\n",
       "      <td>680964</td>\n",
       "      <td>93147</td>\n",
       "      <td>6495</td>\n",
       "      <td>NaN</td>\n",
       "      <td>1.0</td>\n",
       "      <td>-23,5324</td>\n",
       "      <td>-46,7916</td>\n",
       "      <td>38</td>\n",
       "      <td>372553</td>\n",
       "    </tr>\n",
       "    <tr>\n",
       "      <th>373198</th>\n",
       "      <td>Osasco</td>\n",
       "      <td>3534401</td>\n",
       "      <td>25</td>\n",
       "      <td>9</td>\n",
       "      <td>2021-09-25</td>\n",
       "      <td>45305</td>\n",
       "      <td>13</td>\n",
       "      <td>6653</td>\n",
       "      <td>13</td>\n",
       "      <td>2602</td>\n",
       "      <td>...</td>\n",
       "      <td>10</td>\n",
       "      <td>680964</td>\n",
       "      <td>93147</td>\n",
       "      <td>6495</td>\n",
       "      <td>NaN</td>\n",
       "      <td>1.0</td>\n",
       "      <td>-23,5324</td>\n",
       "      <td>-46,7916</td>\n",
       "      <td>38</td>\n",
       "      <td>373198</td>\n",
       "    </tr>\n",
       "  </tbody>\n",
       "</table>\n",
       "<p>579 rows × 27 columns</p>\n",
       "</div>"
      ],
      "text/plain": [
       "       municipio  codigo_ibge  dia  mes   datahora  casos  casos_novos  \\\n",
       "indice                                                                   \n",
       "388       Osasco      3534401   25    2 2020-02-25      0            0   \n",
       "1033      Osasco      3534401   26    2 2020-02-26      0            0   \n",
       "1678      Osasco      3534401   27    2 2020-02-27      0            0   \n",
       "2323      Osasco      3534401   28    2 2020-02-28      0            0   \n",
       "2968      Osasco      3534401   29    2 2020-02-29      0            0   \n",
       "...          ...          ...  ...  ...        ...    ...          ...   \n",
       "370618    Osasco      3534401   21    9 2021-09-21  45236           10   \n",
       "371263    Osasco      3534401   22    9 2021-09-22  45247           11   \n",
       "371908    Osasco      3534401   23    9 2021-09-23  45256            9   \n",
       "372553    Osasco      3534401   24    9 2021-09-24  45292           36   \n",
       "373198    Osasco      3534401   25    9 2021-09-25  45305           13   \n",
       "\n",
       "        casos_pc  casos_mm7d  obitos  ...  cod_drs     pop  pop_60  area  \\\n",
       "indice                                ...                                  \n",
       "388            0           0       0  ...       10  680964   93147  6495   \n",
       "1033           0           0       0  ...       10  680964   93147  6495   \n",
       "1678           0           0       0  ...       10  680964   93147  6495   \n",
       "2323           0           0       0  ...       10  680964   93147  6495   \n",
       "2968           0           0       0  ...       10  680964   93147  6495   \n",
       "...          ...         ...     ...  ...      ...     ...     ...   ...   \n",
       "370618      6643          12    2588  ...       10  680964   93147  6495   \n",
       "371263      6645          13    2591  ...       10  680964   93147  6495   \n",
       "371908      6646          14    2592  ...       10  680964   93147  6495   \n",
       "372553      6651          12    2598  ...       10  680964   93147  6495   \n",
       "373198      6653          13    2602  ...       10  680964   93147  6495   \n",
       "\n",
       "       map_leg  map_leg_s  latitude  longitude  semana_epidem  indice  \n",
       "indice                                                                 \n",
       "388        0.0        8.0  -23,5324   -46,7916              9     388  \n",
       "1033       0.0        8.0  -23,5324   -46,7916              9    1033  \n",
       "1678       0.0        8.0  -23,5324   -46,7916              9    1678  \n",
       "2323       0.0        8.0  -23,5324   -46,7916              9    2323  \n",
       "2968       0.0        8.0  -23,5324   -46,7916              9    2968  \n",
       "...        ...        ...       ...        ...            ...     ...  \n",
       "370618     NaN        1.0  -23,5324   -46,7916             38  370618  \n",
       "371263     NaN        1.0  -23,5324   -46,7916             38  371263  \n",
       "371908     NaN        1.0  -23,5324   -46,7916             38  371908  \n",
       "372553     NaN        1.0  -23,5324   -46,7916             38  372553  \n",
       "373198     NaN        1.0  -23,5324   -46,7916             38  373198  \n",
       "\n",
       "[579 rows x 27 columns]"
      ]
     },
     "execution_count": 116,
     "metadata": {},
     "output_type": "execute_result"
    }
   ],
   "source": [
    "osasco = covid_sp[covid_sp['municipio']=='Osasco']\n",
    "osasco"
   ]
  },
  {
   "cell_type": "code",
   "execution_count": 119,
   "metadata": {},
   "outputs": [
    {
     "name": "stdout",
     "output_type": "stream",
     "text": [
      "65331\n",
      "45305\n"
     ]
    }
   ],
   "source": [
    "print(santo_andre['casos'].max())\n",
    "print(osasco['casos'].max())"
   ]
  },
  {
   "cell_type": "code",
   "execution_count": 121,
   "metadata": {},
   "outputs": [
    {
     "name": "stdout",
     "output_type": "stream",
     "text": [
      "3074\n",
      "2602\n"
     ]
    }
   ],
   "source": [
    "print(santo_andre['obitos'].max())\n",
    "print(osasco['obitos'].max())\n",
    "# Nota-se que não acontece o mesmo com essas cidades, a cidade com menor população também tem menos quantidade de casos e óbitos."
   ]
  },
  {
   "cell_type": "code",
   "execution_count": null,
   "metadata": {},
   "outputs": [],
   "source": []
  }
 ],
 "metadata": {
  "kernelspec": {
   "display_name": "Python 3",
   "language": "python",
   "name": "python3"
  },
  "language_info": {
   "codemirror_mode": {
    "name": "ipython",
    "version": 3
   },
   "file_extension": ".py",
   "mimetype": "text/x-python",
   "name": "python",
   "nbconvert_exporter": "python",
   "pygments_lexer": "ipython3",
   "version": "3.11.1"
  }
 },
 "nbformat": 4,
 "nbformat_minor": 2
}
